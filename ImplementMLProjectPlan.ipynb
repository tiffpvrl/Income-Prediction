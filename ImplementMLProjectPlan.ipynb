{
 "cells": [
  {
   "cell_type": "markdown",
   "metadata": {},
   "source": [
    "# Lab 8: Implement Your Machine Learning Project Plan"
   ]
  },
  {
   "cell_type": "markdown",
   "metadata": {},
   "source": [
    "In this lab assignment, you will implement the machine learning project plan you created in the written assignment. You will:\n",
    "\n",
    "1. Load your data set and save it to a Pandas DataFrame.\n",
    "2. Perform exploratory data analysis on your data to determine which feature engineering and data preparation techniques you will use.\n",
    "3. Prepare your data for your model and create features and a label.\n",
    "4. Fit your model to the training data and evaluate your model.\n",
    "5. Improve your model by performing model selection and/or feature selection techniques to find best model for your problem."
   ]
  },
  {
   "cell_type": "markdown",
   "metadata": {},
   "source": [
    "### Import Packages\n",
    "\n",
    "Before you get started, import a few packages."
   ]
  },
  {
   "cell_type": "code",
   "execution_count": 1,
   "metadata": {},
   "outputs": [],
   "source": [
    "import pandas as pd\n",
    "import numpy as np\n",
    "import os \n",
    "import matplotlib.pyplot as plt\n",
    "import seaborn as sns"
   ]
  },
  {
   "cell_type": "markdown",
   "metadata": {},
   "source": [
    "<b>Task:</b> In the code cell below, import additional packages that you have used in this course that you will need for this task."
   ]
  },
  {
   "cell_type": "code",
   "execution_count": 2,
   "metadata": {},
   "outputs": [],
   "source": [
    "import scipy.stats as stats\n",
    "from sklearn.preprocessing import LabelEncoder\n",
    "from sklearn.impute import KNNImputer\n",
    "from scipy.stats import skew\n",
    "from scipy.stats.mstats import winsorize\n",
    "from collections import Counter\n",
    "from imblearn.over_sampling import SMOTE\n",
    "from imblearn.over_sampling import RandomOverSampler\n",
    "from sklearn.model_selection import train_test_split, GridSearchCV\n",
    "from sklearn.metrics import precision_score, recall_score\n",
    "from sklearn.metrics import average_precision_score"
   ]
  },
  {
   "cell_type": "markdown",
   "metadata": {},
   "source": [
    "## Part 1: Load the Data Set\n",
    "\n",
    "\n",
    "You have chosen to work with one of four data sets. The data sets are located in a folder named \"data.\" The file names of the three data sets are as follows:\n",
    "\n",
    "* The \"adult\" data set that contains Census information from 1994 is located in file `adultData.csv`\n",
    "* The airbnb NYC \"listings\" data set is located in file  `airbnbListingsData.csv`\n",
    "* The World Happiness Report (WHR) data set is located in file `WHR2018Chapter2OnlineData.csv`\n",
    "* The book review data set is located in file `bookReviewsData.csv`\n",
    "\n",
    "\n",
    "\n",
    "<b>Task:</b> In the code cell below, use the same method you have been using to load your data using `pd.read_csv()` and save it to DataFrame `df`."
   ]
  },
  {
   "cell_type": "code",
   "execution_count": 3,
   "metadata": {},
   "outputs": [],
   "source": [
    "# YOUR CODE HERE\n",
    "filename = os.path.join(os.getcwd(), \"data\", \"adultData.csv\")\n",
    "df = pd.read_csv(filename)"
   ]
  },
  {
   "cell_type": "code",
   "execution_count": 4,
   "metadata": {
    "scrolled": true
   },
   "outputs": [
    {
     "data": {
      "text/html": [
       "<div>\n",
       "<style scoped>\n",
       "    .dataframe tbody tr th:only-of-type {\n",
       "        vertical-align: middle;\n",
       "    }\n",
       "\n",
       "    .dataframe tbody tr th {\n",
       "        vertical-align: top;\n",
       "    }\n",
       "\n",
       "    .dataframe thead th {\n",
       "        text-align: right;\n",
       "    }\n",
       "</style>\n",
       "<table border=\"1\" class=\"dataframe\">\n",
       "  <thead>\n",
       "    <tr style=\"text-align: right;\">\n",
       "      <th></th>\n",
       "      <th>age</th>\n",
       "      <th>workclass</th>\n",
       "      <th>fnlwgt</th>\n",
       "      <th>education</th>\n",
       "      <th>education-num</th>\n",
       "      <th>marital-status</th>\n",
       "      <th>occupation</th>\n",
       "      <th>relationship</th>\n",
       "      <th>race</th>\n",
       "      <th>sex_selfID</th>\n",
       "      <th>capital-gain</th>\n",
       "      <th>capital-loss</th>\n",
       "      <th>hours-per-week</th>\n",
       "      <th>native-country</th>\n",
       "      <th>income_binary</th>\n",
       "    </tr>\n",
       "  </thead>\n",
       "  <tbody>\n",
       "    <tr>\n",
       "      <th>0</th>\n",
       "      <td>39.0</td>\n",
       "      <td>State-gov</td>\n",
       "      <td>77516</td>\n",
       "      <td>Bachelors</td>\n",
       "      <td>13</td>\n",
       "      <td>Never-married</td>\n",
       "      <td>Adm-clerical</td>\n",
       "      <td>Not-in-family</td>\n",
       "      <td>White</td>\n",
       "      <td>Non-Female</td>\n",
       "      <td>2174</td>\n",
       "      <td>0</td>\n",
       "      <td>40.0</td>\n",
       "      <td>United-States</td>\n",
       "      <td>&lt;=50K</td>\n",
       "    </tr>\n",
       "    <tr>\n",
       "      <th>1</th>\n",
       "      <td>50.0</td>\n",
       "      <td>Self-emp-not-inc</td>\n",
       "      <td>83311</td>\n",
       "      <td>Bachelors</td>\n",
       "      <td>13</td>\n",
       "      <td>Married-civ-spouse</td>\n",
       "      <td>Exec-managerial</td>\n",
       "      <td>Husband</td>\n",
       "      <td>White</td>\n",
       "      <td>Non-Female</td>\n",
       "      <td>0</td>\n",
       "      <td>0</td>\n",
       "      <td>13.0</td>\n",
       "      <td>United-States</td>\n",
       "      <td>&lt;=50K</td>\n",
       "    </tr>\n",
       "    <tr>\n",
       "      <th>2</th>\n",
       "      <td>38.0</td>\n",
       "      <td>Private</td>\n",
       "      <td>215646</td>\n",
       "      <td>HS-grad</td>\n",
       "      <td>9</td>\n",
       "      <td>Divorced</td>\n",
       "      <td>Handlers-cleaners</td>\n",
       "      <td>Not-in-family</td>\n",
       "      <td>White</td>\n",
       "      <td>Non-Female</td>\n",
       "      <td>0</td>\n",
       "      <td>0</td>\n",
       "      <td>40.0</td>\n",
       "      <td>United-States</td>\n",
       "      <td>&lt;=50K</td>\n",
       "    </tr>\n",
       "    <tr>\n",
       "      <th>3</th>\n",
       "      <td>53.0</td>\n",
       "      <td>Private</td>\n",
       "      <td>234721</td>\n",
       "      <td>11th</td>\n",
       "      <td>7</td>\n",
       "      <td>Married-civ-spouse</td>\n",
       "      <td>Handlers-cleaners</td>\n",
       "      <td>Husband</td>\n",
       "      <td>Black</td>\n",
       "      <td>Non-Female</td>\n",
       "      <td>0</td>\n",
       "      <td>0</td>\n",
       "      <td>40.0</td>\n",
       "      <td>United-States</td>\n",
       "      <td>&lt;=50K</td>\n",
       "    </tr>\n",
       "    <tr>\n",
       "      <th>4</th>\n",
       "      <td>28.0</td>\n",
       "      <td>Private</td>\n",
       "      <td>338409</td>\n",
       "      <td>Bachelors</td>\n",
       "      <td>13</td>\n",
       "      <td>Married-civ-spouse</td>\n",
       "      <td>Prof-specialty</td>\n",
       "      <td>Wife</td>\n",
       "      <td>Black</td>\n",
       "      <td>Female</td>\n",
       "      <td>0</td>\n",
       "      <td>0</td>\n",
       "      <td>40.0</td>\n",
       "      <td>Cuba</td>\n",
       "      <td>&lt;=50K</td>\n",
       "    </tr>\n",
       "  </tbody>\n",
       "</table>\n",
       "</div>"
      ],
      "text/plain": [
       "    age         workclass  fnlwgt  education  education-num  \\\n",
       "0  39.0         State-gov   77516  Bachelors             13   \n",
       "1  50.0  Self-emp-not-inc   83311  Bachelors             13   \n",
       "2  38.0           Private  215646    HS-grad              9   \n",
       "3  53.0           Private  234721       11th              7   \n",
       "4  28.0           Private  338409  Bachelors             13   \n",
       "\n",
       "       marital-status         occupation   relationship   race  sex_selfID  \\\n",
       "0       Never-married       Adm-clerical  Not-in-family  White  Non-Female   \n",
       "1  Married-civ-spouse    Exec-managerial        Husband  White  Non-Female   \n",
       "2            Divorced  Handlers-cleaners  Not-in-family  White  Non-Female   \n",
       "3  Married-civ-spouse  Handlers-cleaners        Husband  Black  Non-Female   \n",
       "4  Married-civ-spouse     Prof-specialty           Wife  Black      Female   \n",
       "\n",
       "   capital-gain  capital-loss  hours-per-week native-country income_binary  \n",
       "0          2174             0            40.0  United-States         <=50K  \n",
       "1             0             0            13.0  United-States         <=50K  \n",
       "2             0             0            40.0  United-States         <=50K  \n",
       "3             0             0            40.0  United-States         <=50K  \n",
       "4             0             0            40.0           Cuba         <=50K  "
      ]
     },
     "execution_count": 4,
     "metadata": {},
     "output_type": "execute_result"
    }
   ],
   "source": [
    "df.head()"
   ]
  },
  {
   "cell_type": "code",
   "execution_count": 5,
   "metadata": {
    "scrolled": false
   },
   "outputs": [
    {
     "data": {
      "text/plain": [
       "age               float64\n",
       "workclass          object\n",
       "fnlwgt              int64\n",
       "education          object\n",
       "education-num       int64\n",
       "marital-status     object\n",
       "occupation         object\n",
       "relationship       object\n",
       "race               object\n",
       "sex_selfID         object\n",
       "capital-gain        int64\n",
       "capital-loss        int64\n",
       "hours-per-week    float64\n",
       "native-country     object\n",
       "income_binary      object\n",
       "dtype: object"
      ]
     },
     "execution_count": 5,
     "metadata": {},
     "output_type": "execute_result"
    }
   ],
   "source": [
    "df.dtypes"
   ]
  },
  {
   "cell_type": "code",
   "execution_count": 6,
   "metadata": {},
   "outputs": [
    {
     "data": {
      "text/html": [
       "<div>\n",
       "<style scoped>\n",
       "    .dataframe tbody tr th:only-of-type {\n",
       "        vertical-align: middle;\n",
       "    }\n",
       "\n",
       "    .dataframe tbody tr th {\n",
       "        vertical-align: top;\n",
       "    }\n",
       "\n",
       "    .dataframe thead th {\n",
       "        text-align: right;\n",
       "    }\n",
       "</style>\n",
       "<table border=\"1\" class=\"dataframe\">\n",
       "  <thead>\n",
       "    <tr style=\"text-align: right;\">\n",
       "      <th></th>\n",
       "      <th>age</th>\n",
       "      <th>fnlwgt</th>\n",
       "      <th>education-num</th>\n",
       "      <th>capital-gain</th>\n",
       "      <th>capital-loss</th>\n",
       "      <th>hours-per-week</th>\n",
       "    </tr>\n",
       "  </thead>\n",
       "  <tbody>\n",
       "    <tr>\n",
       "      <th>count</th>\n",
       "      <td>32399.000000</td>\n",
       "      <td>3.256100e+04</td>\n",
       "      <td>32561.000000</td>\n",
       "      <td>32561.000000</td>\n",
       "      <td>32561.000000</td>\n",
       "      <td>32236.000000</td>\n",
       "    </tr>\n",
       "    <tr>\n",
       "      <th>mean</th>\n",
       "      <td>38.589216</td>\n",
       "      <td>1.897784e+05</td>\n",
       "      <td>10.080679</td>\n",
       "      <td>615.907773</td>\n",
       "      <td>87.303830</td>\n",
       "      <td>40.450428</td>\n",
       "    </tr>\n",
       "    <tr>\n",
       "      <th>std</th>\n",
       "      <td>13.647862</td>\n",
       "      <td>1.055500e+05</td>\n",
       "      <td>2.572720</td>\n",
       "      <td>2420.191974</td>\n",
       "      <td>402.960219</td>\n",
       "      <td>12.353748</td>\n",
       "    </tr>\n",
       "    <tr>\n",
       "      <th>min</th>\n",
       "      <td>17.000000</td>\n",
       "      <td>1.228500e+04</td>\n",
       "      <td>1.000000</td>\n",
       "      <td>0.000000</td>\n",
       "      <td>0.000000</td>\n",
       "      <td>1.000000</td>\n",
       "    </tr>\n",
       "    <tr>\n",
       "      <th>25%</th>\n",
       "      <td>28.000000</td>\n",
       "      <td>1.178270e+05</td>\n",
       "      <td>9.000000</td>\n",
       "      <td>0.000000</td>\n",
       "      <td>0.000000</td>\n",
       "      <td>40.000000</td>\n",
       "    </tr>\n",
       "    <tr>\n",
       "      <th>50%</th>\n",
       "      <td>37.000000</td>\n",
       "      <td>1.783560e+05</td>\n",
       "      <td>10.000000</td>\n",
       "      <td>0.000000</td>\n",
       "      <td>0.000000</td>\n",
       "      <td>40.000000</td>\n",
       "    </tr>\n",
       "    <tr>\n",
       "      <th>75%</th>\n",
       "      <td>48.000000</td>\n",
       "      <td>2.370510e+05</td>\n",
       "      <td>12.000000</td>\n",
       "      <td>0.000000</td>\n",
       "      <td>0.000000</td>\n",
       "      <td>45.000000</td>\n",
       "    </tr>\n",
       "    <tr>\n",
       "      <th>max</th>\n",
       "      <td>90.000000</td>\n",
       "      <td>1.484705e+06</td>\n",
       "      <td>16.000000</td>\n",
       "      <td>14084.000000</td>\n",
       "      <td>4356.000000</td>\n",
       "      <td>99.000000</td>\n",
       "    </tr>\n",
       "  </tbody>\n",
       "</table>\n",
       "</div>"
      ],
      "text/plain": [
       "                age        fnlwgt  education-num  capital-gain  capital-loss  \\\n",
       "count  32399.000000  3.256100e+04   32561.000000  32561.000000  32561.000000   \n",
       "mean      38.589216  1.897784e+05      10.080679    615.907773     87.303830   \n",
       "std       13.647862  1.055500e+05       2.572720   2420.191974    402.960219   \n",
       "min       17.000000  1.228500e+04       1.000000      0.000000      0.000000   \n",
       "25%       28.000000  1.178270e+05       9.000000      0.000000      0.000000   \n",
       "50%       37.000000  1.783560e+05      10.000000      0.000000      0.000000   \n",
       "75%       48.000000  2.370510e+05      12.000000      0.000000      0.000000   \n",
       "max       90.000000  1.484705e+06      16.000000  14084.000000   4356.000000   \n",
       "\n",
       "       hours-per-week  \n",
       "count    32236.000000  \n",
       "mean        40.450428  \n",
       "std         12.353748  \n",
       "min          1.000000  \n",
       "25%         40.000000  \n",
       "50%         40.000000  \n",
       "75%         45.000000  \n",
       "max         99.000000  "
      ]
     },
     "execution_count": 6,
     "metadata": {},
     "output_type": "execute_result"
    }
   ],
   "source": [
    "df.describe()"
   ]
  },
  {
   "cell_type": "markdown",
   "metadata": {},
   "source": [
    "## Part 2: Exploratory Data Analysis\n",
    "\n",
    "The next step is to inspect and analyze your data set with your machine learning problem and project plan in mind. \n",
    "\n",
    "This step will help you determine data preparation and feature engineering techniques you will need to apply to your data to build a balanced modeling data set for your problem and model. These data preparation techniques may include:\n",
    "* addressing missingness, such as replacing missing values with means\n",
    "* renaming features and labels\n",
    "* finding and replacing outliers\n",
    "* performing winsorization if needed\n",
    "* performing one-hot encoding on categorical features\n",
    "* performing vectorization for an NLP problem\n",
    "* addressing class imbalance in your data sample to promote fair AI\n",
    "\n",
    "\n",
    "Think of the different techniques you have used to inspect and analyze your data in this course. These include using Pandas to apply data filters, using the Pandas `describe()` method to get insight into key statistics for each column, using the Pandas `dtypes` property to inspect the data type of each column, and using Matplotlib and Seaborn to detect outliers and visualize relationships between features and labels. If you are working on a classification problem, use techniques you have learned to determine if there is class imbalance.\n",
    "\n",
    "\n",
    "<b>Task</b>: Use the techniques you have learned in this course to inspect and analyze your data. \n",
    "\n",
    "<b>Note</b>: You can add code cells if needed by going to the <b>Insert</b> menu and clicking on <b>Insert Cell Below</b> in the drop-drown menu."
   ]
  },
  {
   "cell_type": "markdown",
   "metadata": {},
   "source": [
    "## 1. Encoding Categorical Values"
   ]
  },
  {
   "cell_type": "code",
   "execution_count": 7,
   "metadata": {
    "scrolled": true
   },
   "outputs": [
    {
     "data": {
      "text/plain": [
       "workclass          8\n",
       "education         16\n",
       "marital-status     7\n",
       "occupation        14\n",
       "relationship       6\n",
       "race               5\n",
       "sex_selfID         2\n",
       "native-country    41\n",
       "income_binary      2\n",
       "dtype: int64"
      ]
     },
     "execution_count": 7,
     "metadata": {},
     "output_type": "execute_result"
    }
   ],
   "source": [
    "# Taking a look at the categorical features\n",
    "cat_columns = list(df.select_dtypes(include=['object']).columns)\n",
    "df[cat_columns].nunique()"
   ]
  },
  {
   "cell_type": "markdown",
   "metadata": {},
   "source": [
    "Judging from pure heuristics, I want to exclude 'relationship' and 'native-country' from my model as these don't look like they would be important or improve my results in predicting income. I am also choosing to exclude 'education' because there is already another feature called 'education-num' that essentially measures the same thing but in numerical value. Lastly, I am also choosing to exclude 'occupation' as it looks similar compared to 'workclass' and could in fact be an expansion of 'workclass'.\n",
    "\n",
    "Because of this, I will only be encoding the following categorical values: workclass, marital-status, race, sex_selfID."
   ]
  },
  {
   "cell_type": "code",
   "execution_count": 8,
   "metadata": {
    "scrolled": false
   },
   "outputs": [
    {
     "data": {
      "text/html": [
       "<div>\n",
       "<style scoped>\n",
       "    .dataframe tbody tr th:only-of-type {\n",
       "        vertical-align: middle;\n",
       "    }\n",
       "\n",
       "    .dataframe tbody tr th {\n",
       "        vertical-align: top;\n",
       "    }\n",
       "\n",
       "    .dataframe thead th {\n",
       "        text-align: right;\n",
       "    }\n",
       "</style>\n",
       "<table border=\"1\" class=\"dataframe\">\n",
       "  <thead>\n",
       "    <tr style=\"text-align: right;\">\n",
       "      <th></th>\n",
       "      <th>age</th>\n",
       "      <th>workclass</th>\n",
       "      <th>fnlwgt</th>\n",
       "      <th>education-num</th>\n",
       "      <th>marital-status</th>\n",
       "      <th>race</th>\n",
       "      <th>sex_selfID</th>\n",
       "      <th>capital-gain</th>\n",
       "      <th>capital-loss</th>\n",
       "      <th>hours-per-week</th>\n",
       "      <th>income_binary</th>\n",
       "    </tr>\n",
       "  </thead>\n",
       "  <tbody>\n",
       "    <tr>\n",
       "      <th>0</th>\n",
       "      <td>39.0</td>\n",
       "      <td>State-gov</td>\n",
       "      <td>77516</td>\n",
       "      <td>13</td>\n",
       "      <td>Never-married</td>\n",
       "      <td>White</td>\n",
       "      <td>Non-Female</td>\n",
       "      <td>2174</td>\n",
       "      <td>0</td>\n",
       "      <td>40.0</td>\n",
       "      <td>&lt;=50K</td>\n",
       "    </tr>\n",
       "    <tr>\n",
       "      <th>1</th>\n",
       "      <td>50.0</td>\n",
       "      <td>Self-emp-not-inc</td>\n",
       "      <td>83311</td>\n",
       "      <td>13</td>\n",
       "      <td>Married-civ-spouse</td>\n",
       "      <td>White</td>\n",
       "      <td>Non-Female</td>\n",
       "      <td>0</td>\n",
       "      <td>0</td>\n",
       "      <td>13.0</td>\n",
       "      <td>&lt;=50K</td>\n",
       "    </tr>\n",
       "    <tr>\n",
       "      <th>2</th>\n",
       "      <td>38.0</td>\n",
       "      <td>Private</td>\n",
       "      <td>215646</td>\n",
       "      <td>9</td>\n",
       "      <td>Divorced</td>\n",
       "      <td>White</td>\n",
       "      <td>Non-Female</td>\n",
       "      <td>0</td>\n",
       "      <td>0</td>\n",
       "      <td>40.0</td>\n",
       "      <td>&lt;=50K</td>\n",
       "    </tr>\n",
       "    <tr>\n",
       "      <th>3</th>\n",
       "      <td>53.0</td>\n",
       "      <td>Private</td>\n",
       "      <td>234721</td>\n",
       "      <td>7</td>\n",
       "      <td>Married-civ-spouse</td>\n",
       "      <td>Black</td>\n",
       "      <td>Non-Female</td>\n",
       "      <td>0</td>\n",
       "      <td>0</td>\n",
       "      <td>40.0</td>\n",
       "      <td>&lt;=50K</td>\n",
       "    </tr>\n",
       "    <tr>\n",
       "      <th>4</th>\n",
       "      <td>28.0</td>\n",
       "      <td>Private</td>\n",
       "      <td>338409</td>\n",
       "      <td>13</td>\n",
       "      <td>Married-civ-spouse</td>\n",
       "      <td>Black</td>\n",
       "      <td>Female</td>\n",
       "      <td>0</td>\n",
       "      <td>0</td>\n",
       "      <td>40.0</td>\n",
       "      <td>&lt;=50K</td>\n",
       "    </tr>\n",
       "  </tbody>\n",
       "</table>\n",
       "</div>"
      ],
      "text/plain": [
       "    age         workclass  fnlwgt  education-num      marital-status   race  \\\n",
       "0  39.0         State-gov   77516             13       Never-married  White   \n",
       "1  50.0  Self-emp-not-inc   83311             13  Married-civ-spouse  White   \n",
       "2  38.0           Private  215646              9            Divorced  White   \n",
       "3  53.0           Private  234721              7  Married-civ-spouse  Black   \n",
       "4  28.0           Private  338409             13  Married-civ-spouse  Black   \n",
       "\n",
       "   sex_selfID  capital-gain  capital-loss  hours-per-week income_binary  \n",
       "0  Non-Female          2174             0            40.0         <=50K  \n",
       "1  Non-Female             0             0            13.0         <=50K  \n",
       "2  Non-Female             0             0            40.0         <=50K  \n",
       "3  Non-Female             0             0            40.0         <=50K  \n",
       "4      Female             0             0            40.0         <=50K  "
      ]
     },
     "execution_count": 8,
     "metadata": {},
     "output_type": "execute_result"
    }
   ],
   "source": [
    "# Dropping columns I don't want to include\n",
    "df = df.drop(columns=['relationship', 'native-country', 'education', 'occupation'])\n",
    "df.head()"
   ]
  },
  {
   "cell_type": "code",
   "execution_count": 9,
   "metadata": {},
   "outputs": [
    {
     "data": {
      "text/plain": [
       "workclass         8\n",
       "marital-status    7\n",
       "race              5\n",
       "sex_selfID        2\n",
       "income_binary     2\n",
       "dtype: int64"
      ]
     },
     "execution_count": 9,
     "metadata": {},
     "output_type": "execute_result"
    }
   ],
   "source": [
    "# Redoing the list of categorical features\n",
    "cat_columns = list(df.select_dtypes(include=['object']).columns)\n",
    "df[cat_columns].nunique()"
   ]
  },
  {
   "cell_type": "code",
   "execution_count": 10,
   "metadata": {
    "scrolled": true
   },
   "outputs": [
    {
     "data": {
      "text/html": [
       "<div>\n",
       "<style scoped>\n",
       "    .dataframe tbody tr th:only-of-type {\n",
       "        vertical-align: middle;\n",
       "    }\n",
       "\n",
       "    .dataframe tbody tr th {\n",
       "        vertical-align: top;\n",
       "    }\n",
       "\n",
       "    .dataframe thead th {\n",
       "        text-align: right;\n",
       "    }\n",
       "</style>\n",
       "<table border=\"1\" class=\"dataframe\">\n",
       "  <thead>\n",
       "    <tr style=\"text-align: right;\">\n",
       "      <th></th>\n",
       "      <th>workclass</th>\n",
       "      <th>marital-status</th>\n",
       "      <th>race</th>\n",
       "      <th>sex_selfID</th>\n",
       "      <th>income_binary</th>\n",
       "      <th>workclass_enc</th>\n",
       "      <th>marital-status_enc</th>\n",
       "      <th>race_enc</th>\n",
       "      <th>sex_selfID_enc</th>\n",
       "      <th>income_binary_enc</th>\n",
       "    </tr>\n",
       "  </thead>\n",
       "  <tbody>\n",
       "    <tr>\n",
       "      <th>0</th>\n",
       "      <td>State-gov</td>\n",
       "      <td>Never-married</td>\n",
       "      <td>White</td>\n",
       "      <td>Non-Female</td>\n",
       "      <td>&lt;=50K</td>\n",
       "      <td>6.0</td>\n",
       "      <td>4</td>\n",
       "      <td>4</td>\n",
       "      <td>1</td>\n",
       "      <td>0</td>\n",
       "    </tr>\n",
       "    <tr>\n",
       "      <th>7</th>\n",
       "      <td>Self-emp-not-inc</td>\n",
       "      <td>Married-civ-spouse</td>\n",
       "      <td>White</td>\n",
       "      <td>Non-Female</td>\n",
       "      <td>&gt;50K</td>\n",
       "      <td>5.0</td>\n",
       "      <td>2</td>\n",
       "      <td>4</td>\n",
       "      <td>1</td>\n",
       "      <td>1</td>\n",
       "    </tr>\n",
       "  </tbody>\n",
       "</table>\n",
       "</div>"
      ],
      "text/plain": [
       "          workclass      marital-status   race  sex_selfID income_binary  \\\n",
       "0         State-gov       Never-married  White  Non-Female         <=50K   \n",
       "7  Self-emp-not-inc  Married-civ-spouse  White  Non-Female          >50K   \n",
       "\n",
       "   workclass_enc  marital-status_enc  race_enc  sex_selfID_enc  \\\n",
       "0            6.0                   4         4               1   \n",
       "7            5.0                   2         4               1   \n",
       "\n",
       "   income_binary_enc  \n",
       "0                  0  \n",
       "7                  1  "
      ]
     },
     "execution_count": 10,
     "metadata": {},
     "output_type": "execute_result"
    }
   ],
   "source": [
    "# Encoding the categorical features but keeping the NaN values\n",
    "df_cat_enc = df[cat_columns].apply(lambda series: pd.Series(\n",
    "        LabelEncoder().fit_transform(series[series.notnull()]),\n",
    "        index=series[series.notnull()].index\n",
    "    ))\n",
    "\n",
    "df_cat_enc.head()\n",
    "\n",
    "# Check that each cat feature is correctly encoded\n",
    "df_cat_enc.nunique()\n",
    "\n",
    "# Renaming the features\n",
    "for old_name in df_cat_enc.columns:\n",
    "    new_name = old_name + '_enc'\n",
    "    df_cat_enc.rename(columns={old_name: new_name}, inplace=True)\n",
    "    \n",
    "# Check that features are renamed\n",
    "df_cat_enc.head()\n",
    "\n",
    "# Concatenating df_cat_enc and df\n",
    "concatenated_df = pd.concat([df, df_cat_enc], axis=1)\n",
    "concatenated_df.head()\n",
    "\n",
    "# Keeping dictionary of numbers encoded in each cat feature\n",
    "cat_columns2 = list(df_cat_enc.columns)\n",
    "only_cat = concatenated_df[cat_columns + cat_columns2]\n",
    "\n",
    "unique_combinations = only_cat.drop_duplicates(subset=['income_binary', 'income_binary_enc'])\n",
    "unique_combinations"
   ]
  },
  {
   "cell_type": "code",
   "execution_count": 11,
   "metadata": {},
   "outputs": [
    {
     "data": {
      "text/html": [
       "<div>\n",
       "<style scoped>\n",
       "    .dataframe tbody tr th:only-of-type {\n",
       "        vertical-align: middle;\n",
       "    }\n",
       "\n",
       "    .dataframe tbody tr th {\n",
       "        vertical-align: top;\n",
       "    }\n",
       "\n",
       "    .dataframe thead th {\n",
       "        text-align: right;\n",
       "    }\n",
       "</style>\n",
       "<table border=\"1\" class=\"dataframe\">\n",
       "  <thead>\n",
       "    <tr style=\"text-align: right;\">\n",
       "      <th></th>\n",
       "      <th>age</th>\n",
       "      <th>fnlwgt</th>\n",
       "      <th>education-num</th>\n",
       "      <th>capital-gain</th>\n",
       "      <th>capital-loss</th>\n",
       "      <th>hours-per-week</th>\n",
       "      <th>workclass_enc</th>\n",
       "      <th>marital-status_enc</th>\n",
       "      <th>race_enc</th>\n",
       "      <th>sex_selfID_enc</th>\n",
       "      <th>income_binary_enc</th>\n",
       "    </tr>\n",
       "  </thead>\n",
       "  <tbody>\n",
       "    <tr>\n",
       "      <th>0</th>\n",
       "      <td>39.0</td>\n",
       "      <td>77516</td>\n",
       "      <td>13</td>\n",
       "      <td>2174</td>\n",
       "      <td>0</td>\n",
       "      <td>40.0</td>\n",
       "      <td>6.0</td>\n",
       "      <td>4</td>\n",
       "      <td>4</td>\n",
       "      <td>1</td>\n",
       "      <td>0</td>\n",
       "    </tr>\n",
       "    <tr>\n",
       "      <th>1</th>\n",
       "      <td>50.0</td>\n",
       "      <td>83311</td>\n",
       "      <td>13</td>\n",
       "      <td>0</td>\n",
       "      <td>0</td>\n",
       "      <td>13.0</td>\n",
       "      <td>5.0</td>\n",
       "      <td>2</td>\n",
       "      <td>4</td>\n",
       "      <td>1</td>\n",
       "      <td>0</td>\n",
       "    </tr>\n",
       "    <tr>\n",
       "      <th>2</th>\n",
       "      <td>38.0</td>\n",
       "      <td>215646</td>\n",
       "      <td>9</td>\n",
       "      <td>0</td>\n",
       "      <td>0</td>\n",
       "      <td>40.0</td>\n",
       "      <td>3.0</td>\n",
       "      <td>0</td>\n",
       "      <td>4</td>\n",
       "      <td>1</td>\n",
       "      <td>0</td>\n",
       "    </tr>\n",
       "    <tr>\n",
       "      <th>3</th>\n",
       "      <td>53.0</td>\n",
       "      <td>234721</td>\n",
       "      <td>7</td>\n",
       "      <td>0</td>\n",
       "      <td>0</td>\n",
       "      <td>40.0</td>\n",
       "      <td>3.0</td>\n",
       "      <td>2</td>\n",
       "      <td>2</td>\n",
       "      <td>1</td>\n",
       "      <td>0</td>\n",
       "    </tr>\n",
       "    <tr>\n",
       "      <th>4</th>\n",
       "      <td>28.0</td>\n",
       "      <td>338409</td>\n",
       "      <td>13</td>\n",
       "      <td>0</td>\n",
       "      <td>0</td>\n",
       "      <td>40.0</td>\n",
       "      <td>3.0</td>\n",
       "      <td>2</td>\n",
       "      <td>2</td>\n",
       "      <td>0</td>\n",
       "      <td>0</td>\n",
       "    </tr>\n",
       "  </tbody>\n",
       "</table>\n",
       "</div>"
      ],
      "text/plain": [
       "    age  fnlwgt  education-num  capital-gain  capital-loss  hours-per-week  \\\n",
       "0  39.0   77516             13          2174             0            40.0   \n",
       "1  50.0   83311             13             0             0            13.0   \n",
       "2  38.0  215646              9             0             0            40.0   \n",
       "3  53.0  234721              7             0             0            40.0   \n",
       "4  28.0  338409             13             0             0            40.0   \n",
       "\n",
       "   workclass_enc  marital-status_enc  race_enc  sex_selfID_enc  \\\n",
       "0            6.0                   4         4               1   \n",
       "1            5.0                   2         4               1   \n",
       "2            3.0                   0         4               1   \n",
       "3            3.0                   2         2               1   \n",
       "4            3.0                   2         2               0   \n",
       "\n",
       "   income_binary_enc  \n",
       "0                  0  \n",
       "1                  0  \n",
       "2                  0  \n",
       "3                  0  \n",
       "4                  0  "
      ]
     },
     "execution_count": 11,
     "metadata": {},
     "output_type": "execute_result"
    }
   ],
   "source": [
    "# Final DF with encoded categorical features\n",
    "df = concatenated_df.drop(columns=cat_columns)\n",
    "df.head()"
   ]
  },
  {
   "cell_type": "markdown",
   "metadata": {},
   "source": [
    "## 2. Addressing missingness"
   ]
  },
  {
   "cell_type": "markdown",
   "metadata": {},
   "source": [
    "### A. Identifying missing values"
   ]
  },
  {
   "cell_type": "code",
   "execution_count": 12,
   "metadata": {
    "scrolled": true
   },
   "outputs": [
    {
     "data": {
      "text/plain": [
       "age                    162\n",
       "fnlwgt                   0\n",
       "education-num            0\n",
       "capital-gain             0\n",
       "capital-loss             0\n",
       "hours-per-week         325\n",
       "workclass_enc         1836\n",
       "marital-status_enc       0\n",
       "race_enc                 0\n",
       "sex_selfID_enc           0\n",
       "income_binary_enc        0\n",
       "dtype: int64"
      ]
     },
     "execution_count": 12,
     "metadata": {},
     "output_type": "execute_result"
    }
   ],
   "source": [
    "# First we want to identify all the missing values in df\n",
    "df.isnull().values.any()\n",
    "nan_count = np.sum(df.isnull(), axis=0)\n",
    "nan_count"
   ]
  },
  {
   "cell_type": "markdown",
   "metadata": {},
   "source": [
    "### B. Imputing missing values with KNN Imputer"
   ]
  },
  {
   "cell_type": "code",
   "execution_count": 13,
   "metadata": {},
   "outputs": [],
   "source": [
    "# Using KNN Imputer\n",
    "knn_imputer = KNNImputer(n_neighbors=1)\n",
    "imputed_df = pd.DataFrame(knn_imputer.fit_transform(df), columns=df.columns)"
   ]
  },
  {
   "cell_type": "code",
   "execution_count": 14,
   "metadata": {},
   "outputs": [
    {
     "data": {
      "text/plain": [
       "False"
      ]
     },
     "execution_count": 14,
     "metadata": {},
     "output_type": "execute_result"
    }
   ],
   "source": [
    "# Checking if all NaN values have been imputed\n",
    "df.isnull().values.any()\n",
    "imputed_df.isnull().values.any()"
   ]
  },
  {
   "cell_type": "code",
   "execution_count": 15,
   "metadata": {},
   "outputs": [
    {
     "data": {
      "text/html": [
       "<div>\n",
       "<style scoped>\n",
       "    .dataframe tbody tr th:only-of-type {\n",
       "        vertical-align: middle;\n",
       "    }\n",
       "\n",
       "    .dataframe tbody tr th {\n",
       "        vertical-align: top;\n",
       "    }\n",
       "\n",
       "    .dataframe thead th {\n",
       "        text-align: right;\n",
       "    }\n",
       "</style>\n",
       "<table border=\"1\" class=\"dataframe\">\n",
       "  <thead>\n",
       "    <tr style=\"text-align: right;\">\n",
       "      <th></th>\n",
       "      <th>age</th>\n",
       "      <th>fnlwgt</th>\n",
       "      <th>education-num</th>\n",
       "      <th>capital-gain</th>\n",
       "      <th>capital-loss</th>\n",
       "      <th>hours-per-week</th>\n",
       "      <th>workclass_enc</th>\n",
       "      <th>marital-status_enc</th>\n",
       "      <th>race_enc</th>\n",
       "      <th>sex_selfID_enc</th>\n",
       "      <th>income_binary_enc</th>\n",
       "    </tr>\n",
       "  </thead>\n",
       "  <tbody>\n",
       "    <tr>\n",
       "      <th>0</th>\n",
       "      <td>39.0</td>\n",
       "      <td>77516.0</td>\n",
       "      <td>13.0</td>\n",
       "      <td>2174.0</td>\n",
       "      <td>0.0</td>\n",
       "      <td>40.0</td>\n",
       "      <td>6.0</td>\n",
       "      <td>4.0</td>\n",
       "      <td>4.0</td>\n",
       "      <td>1.0</td>\n",
       "      <td>0.0</td>\n",
       "    </tr>\n",
       "    <tr>\n",
       "      <th>1</th>\n",
       "      <td>50.0</td>\n",
       "      <td>83311.0</td>\n",
       "      <td>13.0</td>\n",
       "      <td>0.0</td>\n",
       "      <td>0.0</td>\n",
       "      <td>13.0</td>\n",
       "      <td>5.0</td>\n",
       "      <td>2.0</td>\n",
       "      <td>4.0</td>\n",
       "      <td>1.0</td>\n",
       "      <td>0.0</td>\n",
       "    </tr>\n",
       "    <tr>\n",
       "      <th>2</th>\n",
       "      <td>38.0</td>\n",
       "      <td>215646.0</td>\n",
       "      <td>9.0</td>\n",
       "      <td>0.0</td>\n",
       "      <td>0.0</td>\n",
       "      <td>40.0</td>\n",
       "      <td>3.0</td>\n",
       "      <td>0.0</td>\n",
       "      <td>4.0</td>\n",
       "      <td>1.0</td>\n",
       "      <td>0.0</td>\n",
       "    </tr>\n",
       "    <tr>\n",
       "      <th>3</th>\n",
       "      <td>53.0</td>\n",
       "      <td>234721.0</td>\n",
       "      <td>7.0</td>\n",
       "      <td>0.0</td>\n",
       "      <td>0.0</td>\n",
       "      <td>40.0</td>\n",
       "      <td>3.0</td>\n",
       "      <td>2.0</td>\n",
       "      <td>2.0</td>\n",
       "      <td>1.0</td>\n",
       "      <td>0.0</td>\n",
       "    </tr>\n",
       "    <tr>\n",
       "      <th>4</th>\n",
       "      <td>28.0</td>\n",
       "      <td>338409.0</td>\n",
       "      <td>13.0</td>\n",
       "      <td>0.0</td>\n",
       "      <td>0.0</td>\n",
       "      <td>40.0</td>\n",
       "      <td>3.0</td>\n",
       "      <td>2.0</td>\n",
       "      <td>2.0</td>\n",
       "      <td>0.0</td>\n",
       "      <td>0.0</td>\n",
       "    </tr>\n",
       "  </tbody>\n",
       "</table>\n",
       "</div>"
      ],
      "text/plain": [
       "    age    fnlwgt  education-num  capital-gain  capital-loss  hours-per-week  \\\n",
       "0  39.0   77516.0           13.0        2174.0           0.0            40.0   \n",
       "1  50.0   83311.0           13.0           0.0           0.0            13.0   \n",
       "2  38.0  215646.0            9.0           0.0           0.0            40.0   \n",
       "3  53.0  234721.0            7.0           0.0           0.0            40.0   \n",
       "4  28.0  338409.0           13.0           0.0           0.0            40.0   \n",
       "\n",
       "   workclass_enc  marital-status_enc  race_enc  sex_selfID_enc  \\\n",
       "0            6.0                 4.0       4.0             1.0   \n",
       "1            5.0                 2.0       4.0             1.0   \n",
       "2            3.0                 0.0       4.0             1.0   \n",
       "3            3.0                 2.0       2.0             1.0   \n",
       "4            3.0                 2.0       2.0             0.0   \n",
       "\n",
       "   income_binary_enc  \n",
       "0                0.0  \n",
       "1                0.0  \n",
       "2                0.0  \n",
       "3                0.0  \n",
       "4                0.0  "
      ]
     },
     "execution_count": 15,
     "metadata": {},
     "output_type": "execute_result"
    }
   ],
   "source": [
    "imputed_df.head()"
   ]
  },
  {
   "cell_type": "markdown",
   "metadata": {},
   "source": [
    "## 3. Finding and replacing outliers"
   ]
  },
  {
   "cell_type": "markdown",
   "metadata": {},
   "source": [
    "### A. Looking at distribution of values in each feature"
   ]
  },
  {
   "cell_type": "markdown",
   "metadata": {},
   "source": [
    "Before I replace any outliers, I want to first look at the distribution of values in each feature. This will help in determining which features I want to winsorize."
   ]
  },
  {
   "cell_type": "code",
   "execution_count": 16,
   "metadata": {},
   "outputs": [
    {
     "data": {
      "image/png": "[encoded data removed]",
      "text/plain": [
       "<Figure size 576x4752 with 11 Axes>"
      ]
     },
     "metadata": {
      "needs_background": "light"
     },
     "output_type": "display_data"
    }
   ],
   "source": [
    "# Set up the figure and axes\n",
    "fig, axes = plt.subplots(nrows=len(imputed_df.columns), figsize=(8, 6 * len(imputed_df.columns)))\n",
    "\n",
    "# Loop through each column and plot its distribution\n",
    "for i, col in enumerate(imputed_df.columns):\n",
    "    sns.histplot(data=imputed_df, x=col, ax=axes[i], kde=True)  \n",
    "\n",
    "    # Set plot title\n",
    "    axes[i].set_title(f'Distribution of {col}')\n",
    "\n",
    "# Adjust layout\n",
    "plt.tight_layout()\n",
    "plt.show()"
   ]
  },
  {
   "cell_type": "markdown",
   "metadata": {},
   "source": [
    "Then, I want to check more concretely using the statistical formula for skewness which features are heavily skewed and should therefore be winsorized."
   ]
  },
  {
   "cell_type": "code",
   "execution_count": 17,
   "metadata": {},
   "outputs": [
    {
     "data": {
      "text/plain": [
       "Index(['age', 'fnlwgt', 'capital-gain', 'capital-loss', 'race_enc',\n",
       "       'sex_selfID_enc', 'income_binary_enc'],\n",
       "      dtype='object')"
      ]
     },
     "execution_count": 17,
     "metadata": {},
     "output_type": "execute_result"
    }
   ],
   "source": [
    "# Calculate skewness for each column\n",
    "skewness = imputed_df.apply(skew)\n",
    "\n",
    "# Set threshold for skewness\n",
    "skewness_threshold = 0.55  # Example threshold\n",
    "\n",
    "# Identify columns for winsorization\n",
    "columns_to_winsorize = skewness[(skewness > skewness_threshold) | (skewness < -skewness_threshold)].index\n",
    "columns_to_winsorize"
   ]
  },
  {
   "cell_type": "markdown",
   "metadata": {},
   "source": [
    "From my observations, it looks like 'age', 'fnlwgt', 'capital-gain', and 'capital-loss' are the numerical features we need to winsorize."
   ]
  },
  {
   "cell_type": "code",
   "execution_count": 18,
   "metadata": {},
   "outputs": [
    {
     "name": "stdout",
     "output_type": "stream",
     "text": [
      "74.0\n",
      "510072.0\n",
      "5013.0\n",
      "0.0\n"
     ]
    }
   ],
   "source": [
    "# Computing the n-th Percentile of columns\n",
    "\n",
    "age_99 = np.percentile(imputed_df['age'], 99)\n",
    "print(age_99)\n",
    "\n",
    "fnlwgt_99 = np.percentile(imputed_df['fnlwgt'], 99)\n",
    "print(fnlwgt_99)\n",
    "\n",
    "capgain_95 = np.percentile(imputed_df['capital-gain'], 95)\n",
    "print(capgain_95)\n",
    "\n",
    "caploss_95 = np.percentile(imputed_df['capital-loss'], 95)\n",
    "print(caploss_95)"
   ]
  },
  {
   "cell_type": "markdown",
   "metadata": {},
   "source": [
    "It looks like capital-gain and capital-loss are extremely heavily skewed, so I am deciding to drop them from the model entirely to prevent it from affecting the performance of my model."
   ]
  },
  {
   "cell_type": "code",
   "execution_count": 19,
   "metadata": {},
   "outputs": [],
   "source": [
    "imputed_df = imputed_df.drop(columns=['capital-gain', 'capital-loss'], axis=0)"
   ]
  },
  {
   "cell_type": "code",
   "execution_count": 20,
   "metadata": {
    "scrolled": true
   },
   "outputs": [
    {
     "data": {
      "text/html": [
       "<div>\n",
       "<style scoped>\n",
       "    .dataframe tbody tr th:only-of-type {\n",
       "        vertical-align: middle;\n",
       "    }\n",
       "\n",
       "    .dataframe tbody tr th {\n",
       "        vertical-align: top;\n",
       "    }\n",
       "\n",
       "    .dataframe thead th {\n",
       "        text-align: right;\n",
       "    }\n",
       "</style>\n",
       "<table border=\"1\" class=\"dataframe\">\n",
       "  <thead>\n",
       "    <tr style=\"text-align: right;\">\n",
       "      <th></th>\n",
       "      <th>age</th>\n",
       "      <th>fnlwgt</th>\n",
       "      <th>education-num</th>\n",
       "      <th>hours-per-week</th>\n",
       "      <th>workclass_enc</th>\n",
       "      <th>marital-status_enc</th>\n",
       "      <th>race_enc</th>\n",
       "      <th>sex_selfID_enc</th>\n",
       "      <th>income_binary_enc</th>\n",
       "    </tr>\n",
       "  </thead>\n",
       "  <tbody>\n",
       "    <tr>\n",
       "      <th>0</th>\n",
       "      <td>39.0</td>\n",
       "      <td>77516.0</td>\n",
       "      <td>13.0</td>\n",
       "      <td>40.0</td>\n",
       "      <td>6.0</td>\n",
       "      <td>4.0</td>\n",
       "      <td>4.0</td>\n",
       "      <td>1.0</td>\n",
       "      <td>0.0</td>\n",
       "    </tr>\n",
       "    <tr>\n",
       "      <th>1</th>\n",
       "      <td>50.0</td>\n",
       "      <td>83311.0</td>\n",
       "      <td>13.0</td>\n",
       "      <td>13.0</td>\n",
       "      <td>5.0</td>\n",
       "      <td>2.0</td>\n",
       "      <td>4.0</td>\n",
       "      <td>1.0</td>\n",
       "      <td>0.0</td>\n",
       "    </tr>\n",
       "    <tr>\n",
       "      <th>2</th>\n",
       "      <td>38.0</td>\n",
       "      <td>215646.0</td>\n",
       "      <td>9.0</td>\n",
       "      <td>40.0</td>\n",
       "      <td>3.0</td>\n",
       "      <td>0.0</td>\n",
       "      <td>4.0</td>\n",
       "      <td>1.0</td>\n",
       "      <td>0.0</td>\n",
       "    </tr>\n",
       "    <tr>\n",
       "      <th>3</th>\n",
       "      <td>53.0</td>\n",
       "      <td>234721.0</td>\n",
       "      <td>7.0</td>\n",
       "      <td>40.0</td>\n",
       "      <td>3.0</td>\n",
       "      <td>2.0</td>\n",
       "      <td>2.0</td>\n",
       "      <td>1.0</td>\n",
       "      <td>0.0</td>\n",
       "    </tr>\n",
       "    <tr>\n",
       "      <th>4</th>\n",
       "      <td>28.0</td>\n",
       "      <td>338409.0</td>\n",
       "      <td>13.0</td>\n",
       "      <td>40.0</td>\n",
       "      <td>3.0</td>\n",
       "      <td>2.0</td>\n",
       "      <td>2.0</td>\n",
       "      <td>0.0</td>\n",
       "      <td>0.0</td>\n",
       "    </tr>\n",
       "  </tbody>\n",
       "</table>\n",
       "</div>"
      ],
      "text/plain": [
       "    age    fnlwgt  education-num  hours-per-week  workclass_enc  \\\n",
       "0  39.0   77516.0           13.0            40.0            6.0   \n",
       "1  50.0   83311.0           13.0            13.0            5.0   \n",
       "2  38.0  215646.0            9.0            40.0            3.0   \n",
       "3  53.0  234721.0            7.0            40.0            3.0   \n",
       "4  28.0  338409.0           13.0            40.0            3.0   \n",
       "\n",
       "   marital-status_enc  race_enc  sex_selfID_enc  income_binary_enc  \n",
       "0                 4.0       4.0             1.0                0.0  \n",
       "1                 2.0       4.0             1.0                0.0  \n",
       "2                 0.0       4.0             1.0                0.0  \n",
       "3                 2.0       2.0             1.0                0.0  \n",
       "4                 2.0       2.0             0.0                0.0  "
      ]
     },
     "execution_count": 20,
     "metadata": {},
     "output_type": "execute_result"
    }
   ],
   "source": [
    "imputed_df.head()"
   ]
  },
  {
   "cell_type": "markdown",
   "metadata": {},
   "source": [
    "### B. Winsorizing"
   ]
  },
  {
   "cell_type": "code",
   "execution_count": 21,
   "metadata": {
    "scrolled": true
   },
   "outputs": [],
   "source": [
    "# Winsorizing age and fnlwgt\n",
    "imputed_df['age-win'] = stats.mstats.winsorize(imputed_df['age'], limits=[0.1, 0.1])\n",
    "imputed_df['fnlwgt-win'] = stats.mstats.winsorize(imputed_df['fnlwgt'], limits=[0.1,0.1])"
   ]
  },
  {
   "cell_type": "code",
   "execution_count": 22,
   "metadata": {},
   "outputs": [],
   "source": [
    "# Dropping the original age and fnlwgt from the final df\n",
    "imputed_df = imputed_df.drop(columns=['age', 'fnlwgt'], axis=0)"
   ]
  },
  {
   "cell_type": "code",
   "execution_count": 23,
   "metadata": {},
   "outputs": [
    {
     "data": {
      "text/html": [
       "<div>\n",
       "<style scoped>\n",
       "    .dataframe tbody tr th:only-of-type {\n",
       "        vertical-align: middle;\n",
       "    }\n",
       "\n",
       "    .dataframe tbody tr th {\n",
       "        vertical-align: top;\n",
       "    }\n",
       "\n",
       "    .dataframe thead th {\n",
       "        text-align: right;\n",
       "    }\n",
       "</style>\n",
       "<table border=\"1\" class=\"dataframe\">\n",
       "  <thead>\n",
       "    <tr style=\"text-align: right;\">\n",
       "      <th></th>\n",
       "      <th>education-num</th>\n",
       "      <th>hours-per-week</th>\n",
       "      <th>workclass_enc</th>\n",
       "      <th>marital-status_enc</th>\n",
       "      <th>race_enc</th>\n",
       "      <th>sex_selfID_enc</th>\n",
       "      <th>income_binary_enc</th>\n",
       "      <th>age-win</th>\n",
       "      <th>fnlwgt-win</th>\n",
       "    </tr>\n",
       "  </thead>\n",
       "  <tbody>\n",
       "    <tr>\n",
       "      <th>0</th>\n",
       "      <td>13.0</td>\n",
       "      <td>40.0</td>\n",
       "      <td>6.0</td>\n",
       "      <td>4.0</td>\n",
       "      <td>4.0</td>\n",
       "      <td>1.0</td>\n",
       "      <td>0.0</td>\n",
       "      <td>39.0</td>\n",
       "      <td>77516.0</td>\n",
       "    </tr>\n",
       "    <tr>\n",
       "      <th>1</th>\n",
       "      <td>13.0</td>\n",
       "      <td>13.0</td>\n",
       "      <td>5.0</td>\n",
       "      <td>2.0</td>\n",
       "      <td>4.0</td>\n",
       "      <td>1.0</td>\n",
       "      <td>0.0</td>\n",
       "      <td>50.0</td>\n",
       "      <td>83311.0</td>\n",
       "    </tr>\n",
       "    <tr>\n",
       "      <th>2</th>\n",
       "      <td>9.0</td>\n",
       "      <td>40.0</td>\n",
       "      <td>3.0</td>\n",
       "      <td>0.0</td>\n",
       "      <td>4.0</td>\n",
       "      <td>1.0</td>\n",
       "      <td>0.0</td>\n",
       "      <td>38.0</td>\n",
       "      <td>215646.0</td>\n",
       "    </tr>\n",
       "    <tr>\n",
       "      <th>3</th>\n",
       "      <td>7.0</td>\n",
       "      <td>40.0</td>\n",
       "      <td>3.0</td>\n",
       "      <td>2.0</td>\n",
       "      <td>2.0</td>\n",
       "      <td>1.0</td>\n",
       "      <td>0.0</td>\n",
       "      <td>53.0</td>\n",
       "      <td>234721.0</td>\n",
       "    </tr>\n",
       "    <tr>\n",
       "      <th>4</th>\n",
       "      <td>13.0</td>\n",
       "      <td>40.0</td>\n",
       "      <td>3.0</td>\n",
       "      <td>2.0</td>\n",
       "      <td>2.0</td>\n",
       "      <td>0.0</td>\n",
       "      <td>0.0</td>\n",
       "      <td>28.0</td>\n",
       "      <td>329054.0</td>\n",
       "    </tr>\n",
       "    <tr>\n",
       "      <th>5</th>\n",
       "      <td>14.0</td>\n",
       "      <td>40.0</td>\n",
       "      <td>3.0</td>\n",
       "      <td>2.0</td>\n",
       "      <td>4.0</td>\n",
       "      <td>0.0</td>\n",
       "      <td>0.0</td>\n",
       "      <td>37.0</td>\n",
       "      <td>284582.0</td>\n",
       "    </tr>\n",
       "    <tr>\n",
       "      <th>6</th>\n",
       "      <td>5.0</td>\n",
       "      <td>16.0</td>\n",
       "      <td>3.0</td>\n",
       "      <td>3.0</td>\n",
       "      <td>2.0</td>\n",
       "      <td>0.0</td>\n",
       "      <td>0.0</td>\n",
       "      <td>49.0</td>\n",
       "      <td>160187.0</td>\n",
       "    </tr>\n",
       "    <tr>\n",
       "      <th>7</th>\n",
       "      <td>9.0</td>\n",
       "      <td>45.0</td>\n",
       "      <td>5.0</td>\n",
       "      <td>2.0</td>\n",
       "      <td>4.0</td>\n",
       "      <td>1.0</td>\n",
       "      <td>1.0</td>\n",
       "      <td>52.0</td>\n",
       "      <td>209642.0</td>\n",
       "    </tr>\n",
       "    <tr>\n",
       "      <th>8</th>\n",
       "      <td>14.0</td>\n",
       "      <td>50.0</td>\n",
       "      <td>3.0</td>\n",
       "      <td>4.0</td>\n",
       "      <td>4.0</td>\n",
       "      <td>0.0</td>\n",
       "      <td>1.0</td>\n",
       "      <td>31.0</td>\n",
       "      <td>65716.0</td>\n",
       "    </tr>\n",
       "    <tr>\n",
       "      <th>9</th>\n",
       "      <td>13.0</td>\n",
       "      <td>40.0</td>\n",
       "      <td>3.0</td>\n",
       "      <td>2.0</td>\n",
       "      <td>4.0</td>\n",
       "      <td>1.0</td>\n",
       "      <td>1.0</td>\n",
       "      <td>42.0</td>\n",
       "      <td>159449.0</td>\n",
       "    </tr>\n",
       "    <tr>\n",
       "      <th>10</th>\n",
       "      <td>10.0</td>\n",
       "      <td>80.0</td>\n",
       "      <td>3.0</td>\n",
       "      <td>2.0</td>\n",
       "      <td>2.0</td>\n",
       "      <td>1.0</td>\n",
       "      <td>1.0</td>\n",
       "      <td>37.0</td>\n",
       "      <td>280464.0</td>\n",
       "    </tr>\n",
       "    <tr>\n",
       "      <th>11</th>\n",
       "      <td>13.0</td>\n",
       "      <td>40.0</td>\n",
       "      <td>6.0</td>\n",
       "      <td>2.0</td>\n",
       "      <td>1.0</td>\n",
       "      <td>1.0</td>\n",
       "      <td>1.0</td>\n",
       "      <td>30.0</td>\n",
       "      <td>141297.0</td>\n",
       "    </tr>\n",
       "    <tr>\n",
       "      <th>12</th>\n",
       "      <td>13.0</td>\n",
       "      <td>30.0</td>\n",
       "      <td>3.0</td>\n",
       "      <td>4.0</td>\n",
       "      <td>4.0</td>\n",
       "      <td>0.0</td>\n",
       "      <td>0.0</td>\n",
       "      <td>23.0</td>\n",
       "      <td>122272.0</td>\n",
       "    </tr>\n",
       "    <tr>\n",
       "      <th>13</th>\n",
       "      <td>12.0</td>\n",
       "      <td>50.0</td>\n",
       "      <td>3.0</td>\n",
       "      <td>4.0</td>\n",
       "      <td>2.0</td>\n",
       "      <td>1.0</td>\n",
       "      <td>0.0</td>\n",
       "      <td>32.0</td>\n",
       "      <td>205019.0</td>\n",
       "    </tr>\n",
       "    <tr>\n",
       "      <th>14</th>\n",
       "      <td>11.0</td>\n",
       "      <td>40.0</td>\n",
       "      <td>3.0</td>\n",
       "      <td>2.0</td>\n",
       "      <td>1.0</td>\n",
       "      <td>1.0</td>\n",
       "      <td>1.0</td>\n",
       "      <td>40.0</td>\n",
       "      <td>121772.0</td>\n",
       "    </tr>\n",
       "    <tr>\n",
       "      <th>15</th>\n",
       "      <td>4.0</td>\n",
       "      <td>45.0</td>\n",
       "      <td>3.0</td>\n",
       "      <td>2.0</td>\n",
       "      <td>0.0</td>\n",
       "      <td>1.0</td>\n",
       "      <td>0.0</td>\n",
       "      <td>34.0</td>\n",
       "      <td>245487.0</td>\n",
       "    </tr>\n",
       "    <tr>\n",
       "      <th>16</th>\n",
       "      <td>9.0</td>\n",
       "      <td>35.0</td>\n",
       "      <td>5.0</td>\n",
       "      <td>4.0</td>\n",
       "      <td>4.0</td>\n",
       "      <td>1.0</td>\n",
       "      <td>0.0</td>\n",
       "      <td>25.0</td>\n",
       "      <td>176756.0</td>\n",
       "    </tr>\n",
       "    <tr>\n",
       "      <th>17</th>\n",
       "      <td>9.0</td>\n",
       "      <td>70.0</td>\n",
       "      <td>3.0</td>\n",
       "      <td>4.0</td>\n",
       "      <td>4.0</td>\n",
       "      <td>1.0</td>\n",
       "      <td>0.0</td>\n",
       "      <td>32.0</td>\n",
       "      <td>186824.0</td>\n",
       "    </tr>\n",
       "    <tr>\n",
       "      <th>18</th>\n",
       "      <td>7.0</td>\n",
       "      <td>50.0</td>\n",
       "      <td>3.0</td>\n",
       "      <td>2.0</td>\n",
       "      <td>4.0</td>\n",
       "      <td>1.0</td>\n",
       "      <td>0.0</td>\n",
       "      <td>38.0</td>\n",
       "      <td>65716.0</td>\n",
       "    </tr>\n",
       "    <tr>\n",
       "      <th>19</th>\n",
       "      <td>14.0</td>\n",
       "      <td>45.0</td>\n",
       "      <td>5.0</td>\n",
       "      <td>0.0</td>\n",
       "      <td>4.0</td>\n",
       "      <td>0.0</td>\n",
       "      <td>1.0</td>\n",
       "      <td>43.0</td>\n",
       "      <td>292175.0</td>\n",
       "    </tr>\n",
       "  </tbody>\n",
       "</table>\n",
       "</div>"
      ],
      "text/plain": [
       "    education-num  hours-per-week  workclass_enc  marital-status_enc  \\\n",
       "0            13.0            40.0            6.0                 4.0   \n",
       "1            13.0            13.0            5.0                 2.0   \n",
       "2             9.0            40.0            3.0                 0.0   \n",
       "3             7.0            40.0            3.0                 2.0   \n",
       "4            13.0            40.0            3.0                 2.0   \n",
       "5            14.0            40.0            3.0                 2.0   \n",
       "6             5.0            16.0            3.0                 3.0   \n",
       "7             9.0            45.0            5.0                 2.0   \n",
       "8            14.0            50.0            3.0                 4.0   \n",
       "9            13.0            40.0            3.0                 2.0   \n",
       "10           10.0            80.0            3.0                 2.0   \n",
       "11           13.0            40.0            6.0                 2.0   \n",
       "12           13.0            30.0            3.0                 4.0   \n",
       "13           12.0            50.0            3.0                 4.0   \n",
       "14           11.0            40.0            3.0                 2.0   \n",
       "15            4.0            45.0            3.0                 2.0   \n",
       "16            9.0            35.0            5.0                 4.0   \n",
       "17            9.0            70.0            3.0                 4.0   \n",
       "18            7.0            50.0            3.0                 2.0   \n",
       "19           14.0            45.0            5.0                 0.0   \n",
       "\n",
       "    race_enc  sex_selfID_enc  income_binary_enc  age-win  fnlwgt-win  \n",
       "0        4.0             1.0                0.0     39.0     77516.0  \n",
       "1        4.0             1.0                0.0     50.0     83311.0  \n",
       "2        4.0             1.0                0.0     38.0    215646.0  \n",
       "3        2.0             1.0                0.0     53.0    234721.0  \n",
       "4        2.0             0.0                0.0     28.0    329054.0  \n",
       "5        4.0             0.0                0.0     37.0    284582.0  \n",
       "6        2.0             0.0                0.0     49.0    160187.0  \n",
       "7        4.0             1.0                1.0     52.0    209642.0  \n",
       "8        4.0             0.0                1.0     31.0     65716.0  \n",
       "9        4.0             1.0                1.0     42.0    159449.0  \n",
       "10       2.0             1.0                1.0     37.0    280464.0  \n",
       "11       1.0             1.0                1.0     30.0    141297.0  \n",
       "12       4.0             0.0                0.0     23.0    122272.0  \n",
       "13       2.0             1.0                0.0     32.0    205019.0  \n",
       "14       1.0             1.0                1.0     40.0    121772.0  \n",
       "15       0.0             1.0                0.0     34.0    245487.0  \n",
       "16       4.0             1.0                0.0     25.0    176756.0  \n",
       "17       4.0             1.0                0.0     32.0    186824.0  \n",
       "18       4.0             1.0                0.0     38.0     65716.0  \n",
       "19       4.0             0.0                1.0     43.0    292175.0  "
      ]
     },
     "execution_count": 23,
     "metadata": {},
     "output_type": "execute_result"
    }
   ],
   "source": [
    "imputed_df.head(20)"
   ]
  },
  {
   "cell_type": "markdown",
   "metadata": {},
   "source": [
    "## Addressing Class Imbalance"
   ]
  },
  {
   "cell_type": "markdown",
   "metadata": {},
   "source": [
    "In this section I want to check for class imbalance in my dataset. Since my goal is to create a model that predicts for income, it would have negative real life implications if my dataset had a heavy class imbalance."
   ]
  },
  {
   "cell_type": "code",
   "execution_count": 24,
   "metadata": {
    "scrolled": true
   },
   "outputs": [
    {
     "name": "stdout",
     "output_type": "stream",
     "text": [
      "Counter({0.0: 24720, 1.0: 7841})\n"
     ]
    }
   ],
   "source": [
    "counter = Counter(imputed_df['income_binary_enc'])\n",
    "print(counter)"
   ]
  },
  {
   "cell_type": "markdown",
   "metadata": {},
   "source": [
    "It looks like the \"<=50K\" class is a majority compared to the \">50K\" class, with a rough ratio of 3:1. In order to rectify this, I will use SMOTE to resample the training data."
   ]
  },
  {
   "cell_type": "markdown",
   "metadata": {},
   "source": [
    "### A. SMOTE"
   ]
  },
  {
   "cell_type": "code",
   "execution_count": 25,
   "metadata": {},
   "outputs": [],
   "source": [
    "# Creating features and label\n",
    "y = imputed_df['income_binary_enc']\n",
    "X = imputed_df.drop(columns=['income_binary_enc'], axis=0)"
   ]
  },
  {
   "cell_type": "code",
   "execution_count": 26,
   "metadata": {},
   "outputs": [],
   "source": [
    "# Splitting data into training and testing\n",
    "X_train, X_test, y_train, y_test = train_test_split(X, y, test_size=0.2, random_state=42)"
   ]
  },
  {
   "cell_type": "code",
   "execution_count": 27,
   "metadata": {},
   "outputs": [
    {
     "name": "stdout",
     "output_type": "stream",
     "text": [
      "Resampled class distribution: Counter({1.0: 19778, 0.0: 19778})\n"
     ]
    }
   ],
   "source": [
    "# Instantiate the SMOTE object\n",
    "smote = SMOTE(random_state=42)\n",
    "\n",
    "# Fit and transform the data\n",
    "X_resampled, y_resampled = smote.fit_resample(X_train, y_train)\n",
    "\n",
    "print(\"Resampled class distribution:\", Counter(y_resampled))"
   ]
  },
  {
   "cell_type": "markdown",
   "metadata": {},
   "source": [
    "## Part 3: Implement Your Project Plan\n",
    "\n",
    "<b>Task:</b> Use the rest of this notebook to carry out your project plan. You will:\n",
    "\n",
    "1. Prepare your data for your model and create features and a label.\n",
    "2. Fit your model to the training data and evaluate your model.\n",
    "3. Improve your model by performing model selection and/or feature selection techniques to find best model for your problem.\n",
    "\n",
    "\n",
    "Add code cells below and populate the notebook with commentary, code, analyses, results, and figures as you see fit."
   ]
  },
  {
   "cell_type": "markdown",
   "metadata": {},
   "source": [
    "## MODEL TRAINING, VALIDATION & EVALUATION"
   ]
  },
  {
   "cell_type": "markdown",
   "metadata": {},
   "source": [
    "I will use 4 different models: Logistic Regression, Decision Tree, GBDT, and Random Forest. In each model, I will attempt to use cross-validation techniques to find the most optimal hyperparameters for each model, which will in turn improve overall model performance.\n",
    "\n",
    "I will also use precision and recall as evaluation metrics. I decided against using accuracy due to the heavy class imbalance present in my dataset. I also decided to look at both precision and recall rather than focus on just either one because of the versatility of the use-cases for my model. For things like risk assessment in banking, for example, precision is a better metric to use because it would be too much risk for the bank to use recall and thus prioritize a greater quantity of predictions of the “rich/higher income” class. But if we were talking about a social impact business whose goal is to provide help for lower income groups, then recall would be a better evaluation metric.\n",
    "\n",
    "In addition to precision-recall, I will also use AUC ROC as a separate evaluation metric."
   ]
  },
  {
   "cell_type": "markdown",
   "metadata": {},
   "source": [
    "## 1. Logistic Regression"
   ]
  },
  {
   "cell_type": "code",
   "execution_count": 28,
   "metadata": {},
   "outputs": [],
   "source": [
    "from sklearn.linear_model import LogisticRegression\n",
    "from sklearn.metrics import confusion_matrix\n",
    "from sklearn.metrics import precision_recall_curve"
   ]
  },
  {
   "cell_type": "markdown",
   "metadata": {},
   "source": [
    "### A. Creating and Fitting the Model"
   ]
  },
  {
   "cell_type": "markdown",
   "metadata": {},
   "source": [
    "Note that I decided against doing a GridSearch cross validation of the L1/L2 regularization penalties for my Logistic Regression model because, complying with the rules of agile development, I wanted my LR model to be the baseline of all my models in the sense that I wanted to get a feel of how a simple model would perform. "
   ]
  },
  {
   "cell_type": "code",
   "execution_count": 29,
   "metadata": {
    "scrolled": true
   },
   "outputs": [
    {
     "data": {
      "text/plain": [
       "LogisticRegression()"
      ]
     },
     "execution_count": 29,
     "metadata": {},
     "output_type": "execute_result"
    }
   ],
   "source": [
    "# Create the model \n",
    "lr_model = LogisticRegression()\n",
    "lr_model.fit(X_resampled, y_resampled)"
   ]
  },
  {
   "cell_type": "code",
   "execution_count": 30,
   "metadata": {},
   "outputs": [],
   "source": [
    "# Make predictions on the test data\n",
    "y_lr_pred = lr_model.predict(X_test)\n",
    "y_lr_proba = lr_model.predict_proba(X_test)[:, 1]"
   ]
  },
  {
   "cell_type": "markdown",
   "metadata": {},
   "source": [
    "### B. Evaluation"
   ]
  },
  {
   "cell_type": "code",
   "execution_count": 31,
   "metadata": {},
   "outputs": [],
   "source": [
    "from sklearn.metrics import roc_curve, roc_auc_score, auc"
   ]
  },
  {
   "cell_type": "code",
   "execution_count": 32,
   "metadata": {},
   "outputs": [
    {
     "data": {
      "image/png": "[encoded data removed]",
      "text/plain": [
       "<Figure size 576x432 with 1 Axes>"
      ]
     },
     "metadata": {
      "needs_background": "light"
     },
     "output_type": "display_data"
    }
   ],
   "source": [
    "# Calculate AUC-ROC score\n",
    "lr_auc_roc = roc_auc_score(y_test, y_lr_proba)\n",
    "\n",
    "# Calculate ROC curve\n",
    "lr_fpr, lr_tpr, lr_thresholds = roc_curve(y_test, y_lr_proba)\n",
    "\n",
    "# Plot ROC curve\n",
    "plt.figure(figsize=(8, 6))\n",
    "plt.plot(lr_fpr, lr_tpr, color='blue', label=f'AUC = {lr_auc_roc:.2f}')\n",
    "plt.plot([0, 1], [0, 1], color='gray', linestyle='--')\n",
    "plt.xlabel('False Positive Rate')\n",
    "plt.ylabel('True Positive Rate')\n",
    "plt.title('Receiver Operating Characteristic (ROC) Curve')\n",
    "plt.legend(loc='lower right')\n",
    "plt.grid(True)\n",
    "plt.show()"
   ]
  },
  {
   "cell_type": "code",
   "execution_count": 33,
   "metadata": {},
   "outputs": [
    {
     "name": "stdout",
     "output_type": "stream",
     "text": [
      "Confusion Matrix for the model: \n"
     ]
    },
    {
     "data": {
      "text/html": [
       "<div>\n",
       "<style scoped>\n",
       "    .dataframe tbody tr th:only-of-type {\n",
       "        vertical-align: middle;\n",
       "    }\n",
       "\n",
       "    .dataframe tbody tr th {\n",
       "        vertical-align: top;\n",
       "    }\n",
       "\n",
       "    .dataframe thead th {\n",
       "        text-align: right;\n",
       "    }\n",
       "</style>\n",
       "<table border=\"1\" class=\"dataframe\">\n",
       "  <thead>\n",
       "    <tr style=\"text-align: right;\">\n",
       "      <th></th>\n",
       "      <th>Predicted: &lt;=50K</th>\n",
       "      <th>Predicted: &gt;50K</th>\n",
       "    </tr>\n",
       "  </thead>\n",
       "  <tbody>\n",
       "    <tr>\n",
       "      <th>Actual: &lt;=50K</th>\n",
       "      <td>0</td>\n",
       "      <td>1571</td>\n",
       "    </tr>\n",
       "    <tr>\n",
       "      <th>Actual: &gt;50K</th>\n",
       "      <td>0</td>\n",
       "      <td>4942</td>\n",
       "    </tr>\n",
       "  </tbody>\n",
       "</table>\n",
       "</div>"
      ],
      "text/plain": [
       "               Predicted: <=50K  Predicted: >50K\n",
       "Actual: <=50K                 0             1571\n",
       "Actual: >50K                  0             4942"
      ]
     },
     "execution_count": 33,
     "metadata": {},
     "output_type": "execute_result"
    }
   ],
   "source": [
    "# Create a confusion matrix\n",
    "lr_cm = confusion_matrix(y_test, y_lr_pred, labels=[True,False])\n",
    "\n",
    "# Create a Pandas DataFrame out of the confusion matrix for display\n",
    "print('Confusion Matrix for the model: ')\n",
    "pd.DataFrame(lr_cm, columns=['Predicted: <=50K', 'Predicted: >50K'], index = ['Actual: <=50K', 'Actual: >50K'])"
   ]
  },
  {
   "cell_type": "code",
   "execution_count": 34,
   "metadata": {},
   "outputs": [
    {
     "name": "stdout",
     "output_type": "stream",
     "text": [
      "Precision: 0.0\n",
      "Recall: 0.0\n"
     ]
    },
    {
     "name": "stderr",
     "output_type": "stream",
     "text": [
      "/home/codio/.local/lib/python3.6/site-packages/sklearn/metrics/_classification.py:1248: UndefinedMetricWarning: Precision is ill-defined and being set to 0.0 due to no predicted samples. Use `zero_division` parameter to control this behavior.\n",
      "  _warn_prf(average, modifier, msg_start, len(result))\n"
     ]
    }
   ],
   "source": [
    "# Calculate precision\n",
    "lr_pre = precision_score(y_test, y_lr_pred)\n",
    "print(\"Precision:\", lr_pre)\n",
    "\n",
    "# Calculate recall\n",
    "lr_rec = recall_score(y_test, y_lr_pred)\n",
    "print(\"Recall:\", lr_rec)"
   ]
  },
  {
   "cell_type": "code",
   "execution_count": 35,
   "metadata": {
    "scrolled": true
   },
   "outputs": [
    {
     "data": {
      "image/png": "[encoded data removed]",
      "text/plain": [
       "<Figure size 432x288 with 1 Axes>"
      ]
     },
     "metadata": {
      "needs_background": "light"
     },
     "output_type": "display_data"
    },
    {
     "name": "stdout",
     "output_type": "stream",
     "text": [
      "AUC PR Score:  0.2555879580383034\n"
     ]
    }
   ],
   "source": [
    "lr_precurve, lr_recurve, lr_threshcurve = precision_recall_curve(y_test, y_lr_proba)\n",
    "\n",
    "fig = plt.figure()\n",
    "ax = fig.add_subplot(111)\n",
    "\n",
    "sns.lineplot(x=lr_recurve, y=lr_precurve, marker = 'o')\n",
    "\n",
    "plt.title(\"Precision-recall curve\")\n",
    "plt.xlabel(\"Recall\")\n",
    "plt.ylabel(\"Precision\")\n",
    "plt.show()\n",
    "\n",
    "lr_auc_pr = average_precision_score(y_test, y_lr_proba)\n",
    "print('AUC PR Score: ', lr_auc_pr)"
   ]
  },
  {
   "cell_type": "markdown",
   "metadata": {},
   "source": [
    "## 2. Decision Tree"
   ]
  },
  {
   "cell_type": "code",
   "execution_count": 36,
   "metadata": {},
   "outputs": [],
   "source": [
    "from sklearn.tree import DecisionTreeClassifier"
   ]
  },
  {
   "cell_type": "markdown",
   "metadata": {},
   "source": [
    "### A. Creating and Fitting the Model"
   ]
  },
  {
   "cell_type": "code",
   "execution_count": 37,
   "metadata": {
    "scrolled": true
   },
   "outputs": [
    {
     "data": {
      "text/plain": [
       "DecisionTreeClassifier()"
      ]
     },
     "execution_count": 37,
     "metadata": {},
     "output_type": "execute_result"
    }
   ],
   "source": [
    "# Create the model \n",
    "dt_classifier = DecisionTreeClassifier()\n",
    "dt_classifier.fit(X_resampled, y_resampled)"
   ]
  },
  {
   "cell_type": "code",
   "execution_count": 38,
   "metadata": {
    "scrolled": true
   },
   "outputs": [
    {
     "name": "stdout",
     "output_type": "stream",
     "text": [
      "Best Parameters: {'max_depth': 10, 'min_samples_leaf': 10}\n",
      "Best Score: 0.8508976634523175\n"
     ]
    }
   ],
   "source": [
    "# Define hyperparameters and their possible values\n",
    "dt_param_grid = {\n",
    "    'max_depth' : [None, 3, 5, 7, 10, 15, 20],  # Max Depth\n",
    "    'min_samples_leaf' : [1, 5, 10, 20, 50]  # Min samples leaf\n",
    "}\n",
    "\n",
    "# Create a GridSearchCV object\n",
    "dt_grid = GridSearchCV(dt_classifier, dt_param_grid, cv=5, scoring='accuracy')\n",
    "\n",
    "# Perform the grid search on the training data\n",
    "dt_grid_search = dt_grid.fit(X_resampled, y_resampled)\n",
    "\n",
    "# Print the best parameters and corresponding score\n",
    "print(\"Best Parameters:\", dt_grid_search.best_params_)\n",
    "print(\"Best Score:\", dt_grid_search.best_score_)"
   ]
  },
  {
   "cell_type": "code",
   "execution_count": 39,
   "metadata": {},
   "outputs": [],
   "source": [
    "# Saving the best params values\n",
    "dt_max_depth = dt_grid_search.best_params_['max_depth']\n",
    "dt_min_samples_leaf = dt_grid_search.best_params_['min_samples_leaf']"
   ]
  },
  {
   "cell_type": "code",
   "execution_count": 40,
   "metadata": {},
   "outputs": [
    {
     "data": {
      "text/plain": [
       "DecisionTreeClassifier(max_depth=10, min_samples_leaf=10)"
      ]
     },
     "execution_count": 40,
     "metadata": {},
     "output_type": "execute_result"
    }
   ],
   "source": [
    "# Fitting a model with the best params values\n",
    "dt_model = DecisionTreeClassifier(max_depth=dt_max_depth, min_samples_leaf=dt_min_samples_leaf)\n",
    "dt_model.fit(X_resampled, y_resampled)"
   ]
  },
  {
   "cell_type": "code",
   "execution_count": 41,
   "metadata": {},
   "outputs": [],
   "source": [
    "# Make predictions on the test data\n",
    "y_dt_pred = dt_model.predict(X_test)\n",
    "y_dt_proba = dt_model.predict_proba(X_test)[:, 1]"
   ]
  },
  {
   "cell_type": "markdown",
   "metadata": {},
   "source": [
    "### B. Evaluation"
   ]
  },
  {
   "cell_type": "code",
   "execution_count": 42,
   "metadata": {
    "scrolled": true
   },
   "outputs": [
    {
     "data": {
      "image/png": "[encoded data removed]",
      "text/plain": [
       "<Figure size 576x432 with 1 Axes>"
      ]
     },
     "metadata": {
      "needs_background": "light"
     },
     "output_type": "display_data"
    }
   ],
   "source": [
    "# Calculate AUC-ROC score\n",
    "dt_auc_roc = roc_auc_score(y_test, y_dt_proba)\n",
    "\n",
    "# Calculate ROC curve\n",
    "dt_fpr, dt_tpr, dt_thresholds = roc_curve(y_test, y_dt_proba)\n",
    "\n",
    "# Plot ROC curve\n",
    "plt.figure(figsize=(8, 6))\n",
    "plt.plot(dt_fpr, dt_tpr, color='blue', label=f'AUC = {dt_auc_roc:.2f}')\n",
    "plt.plot([0, 1], [0, 1], color='gray', linestyle='--')\n",
    "plt.xlabel('False Positive Rate')\n",
    "plt.ylabel('True Positive Rate')\n",
    "plt.title('Receiver Operating Characteristic (ROC) Curve')\n",
    "plt.legend(loc='lower right')\n",
    "plt.grid(True)\n",
    "plt.show()"
   ]
  },
  {
   "cell_type": "code",
   "execution_count": 43,
   "metadata": {},
   "outputs": [
    {
     "name": "stdout",
     "output_type": "stream",
     "text": [
      "Confusion Matrix for the model: \n"
     ]
    },
    {
     "data": {
      "text/html": [
       "<div>\n",
       "<style scoped>\n",
       "    .dataframe tbody tr th:only-of-type {\n",
       "        vertical-align: middle;\n",
       "    }\n",
       "\n",
       "    .dataframe tbody tr th {\n",
       "        vertical-align: top;\n",
       "    }\n",
       "\n",
       "    .dataframe thead th {\n",
       "        text-align: right;\n",
       "    }\n",
       "</style>\n",
       "<table border=\"1\" class=\"dataframe\">\n",
       "  <thead>\n",
       "    <tr style=\"text-align: right;\">\n",
       "      <th></th>\n",
       "      <th>Predicted: &lt;=50K</th>\n",
       "      <th>Predicted: &gt;50K</th>\n",
       "    </tr>\n",
       "  </thead>\n",
       "  <tbody>\n",
       "    <tr>\n",
       "      <th>Actual: &lt;=50K</th>\n",
       "      <td>1047</td>\n",
       "      <td>524</td>\n",
       "    </tr>\n",
       "    <tr>\n",
       "      <th>Actual: &gt;50K</th>\n",
       "      <td>691</td>\n",
       "      <td>4251</td>\n",
       "    </tr>\n",
       "  </tbody>\n",
       "</table>\n",
       "</div>"
      ],
      "text/plain": [
       "               Predicted: <=50K  Predicted: >50K\n",
       "Actual: <=50K              1047              524\n",
       "Actual: >50K                691             4251"
      ]
     },
     "execution_count": 43,
     "metadata": {},
     "output_type": "execute_result"
    }
   ],
   "source": [
    "# Create a confusion matrix\n",
    "dt_cm = confusion_matrix(y_test, y_dt_pred, labels=[True,False])\n",
    "\n",
    "# Create a Pandas DataFrame out of the confusion matrix for display\n",
    "print('Confusion Matrix for the model: ')\n",
    "pd.DataFrame(dt_cm, columns=['Predicted: <=50K', 'Predicted: >50K'], index = ['Actual: <=50K', 'Actual: >50K'])"
   ]
  },
  {
   "cell_type": "code",
   "execution_count": 44,
   "metadata": {},
   "outputs": [
    {
     "name": "stdout",
     "output_type": "stream",
     "text": [
      "Precision: 0.6024165707710012\n",
      "Recall: 0.6664544875875239\n"
     ]
    }
   ],
   "source": [
    "# Calculate precision\n",
    "dt_pre = precision_score(y_test, y_dt_pred)\n",
    "print(\"Precision:\", dt_pre)\n",
    "\n",
    "# Calculate recall\n",
    "dt_rec = recall_score(y_test, y_dt_pred)\n",
    "print(\"Recall:\", dt_rec)"
   ]
  },
  {
   "cell_type": "code",
   "execution_count": 45,
   "metadata": {
    "scrolled": true
   },
   "outputs": [
    {
     "data": {
      "image/png": "[encoded data removed]",
      "text/plain": [
       "<Figure size 432x288 with 1 Axes>"
      ]
     },
     "metadata": {
      "needs_background": "light"
     },
     "output_type": "display_data"
    },
    {
     "name": "stdout",
     "output_type": "stream",
     "text": [
      "AUC PR Score:  0.6316383149061565\n"
     ]
    }
   ],
   "source": [
    "dt_precurve, dt_recurve, dt_threshcurve = precision_recall_curve(y_test, y_dt_proba)\n",
    "\n",
    "fig = plt.figure()\n",
    "ax = fig.add_subplot(111)\n",
    "\n",
    "sns.lineplot(x=dt_recurve, y=dt_precurve, marker = 'o')\n",
    "\n",
    "plt.title(\"Precision-recall curve\")\n",
    "plt.xlabel(\"Recall\")\n",
    "plt.ylabel(\"Precision\")\n",
    "plt.show()\n",
    "\n",
    "dt_auc_pr = average_precision_score(y_test, y_dt_proba)\n",
    "print('AUC PR Score: ', dt_auc_pr)"
   ]
  },
  {
   "cell_type": "markdown",
   "metadata": {},
   "source": [
    "## 3. Gradient Boosted Decision Tree"
   ]
  },
  {
   "cell_type": "code",
   "execution_count": 46,
   "metadata": {},
   "outputs": [],
   "source": [
    "from sklearn.ensemble import GradientBoostingClassifier"
   ]
  },
  {
   "cell_type": "markdown",
   "metadata": {},
   "source": [
    "### A. Creating and Fitting the Model"
   ]
  },
  {
   "cell_type": "code",
   "execution_count": 47,
   "metadata": {
    "scrolled": true
   },
   "outputs": [
    {
     "data": {
      "text/plain": [
       "GradientBoostingClassifier()"
      ]
     },
     "execution_count": 47,
     "metadata": {},
     "output_type": "execute_result"
    }
   ],
   "source": [
    "# Create the model \n",
    "gbdt_classifier = GradientBoostingClassifier()\n",
    "gbdt_classifier.fit(X_resampled, y_resampled)"
   ]
  },
  {
   "cell_type": "code",
   "execution_count": 48,
   "metadata": {
    "scrolled": true
   },
   "outputs": [
    {
     "name": "stdout",
     "output_type": "stream",
     "text": [
      "Best Parameters: {'max_depth': 5, 'n_estimators': 50}\n",
      "Best Score: 0.8670523431875263\n"
     ]
    }
   ],
   "source": [
    "# Define hyperparameters and their possible values\n",
    "gbdt_param_grid = {\n",
    "    'max_depth' : [3, 5, 7],  # Max Depth\n",
    "    'n_estimators' : [50, 100]  # N_estimators\n",
    "}\n",
    "\n",
    "# Create a GridSearchCV object\n",
    "gbdt_grid = GridSearchCV(gbdt_classifier, gbdt_param_grid, cv=5, scoring='accuracy')\n",
    "\n",
    "# Perform the grid search on the training data\n",
    "gbdt_grid_search = gbdt_grid.fit(X_resampled, y_resampled)\n",
    "\n",
    "# Print the best parameters and corresponding score\n",
    "print(\"Best Parameters:\", gbdt_grid_search.best_params_)\n",
    "print(\"Best Score:\", gbdt_grid_search.best_score_)"
   ]
  },
  {
   "cell_type": "code",
   "execution_count": 49,
   "metadata": {},
   "outputs": [],
   "source": [
    "# Saving the best params values\n",
    "gbdt_max_depth = gbdt_grid_search.best_params_['max_depth']\n",
    "gbdt_n_estimators = gbdt_grid_search.best_params_['n_estimators']"
   ]
  },
  {
   "cell_type": "code",
   "execution_count": 50,
   "metadata": {},
   "outputs": [
    {
     "data": {
      "text/plain": [
       "GradientBoostingClassifier(max_depth=5, n_estimators=50)"
      ]
     },
     "execution_count": 50,
     "metadata": {},
     "output_type": "execute_result"
    }
   ],
   "source": [
    "# Fitting a model with the best params values\n",
    "gbdt_model = GradientBoostingClassifier(max_depth=gbdt_max_depth, n_estimators=gbdt_n_estimators)\n",
    "gbdt_model.fit(X_resampled, y_resampled)"
   ]
  },
  {
   "cell_type": "code",
   "execution_count": 51,
   "metadata": {},
   "outputs": [],
   "source": [
    "# Make predictions on the test data\n",
    "y_gbdt_pred = gbdt_model.predict(X_test)\n",
    "y_gbdt_proba = gbdt_model.predict_proba(X_test)[:, 1]"
   ]
  },
  {
   "cell_type": "markdown",
   "metadata": {},
   "source": [
    "### B. Evaluation"
   ]
  },
  {
   "cell_type": "code",
   "execution_count": 52,
   "metadata": {},
   "outputs": [
    {
     "data": {
      "image/png": "[encoded data removed]",
      "text/plain": [
       "<Figure size 576x432 with 1 Axes>"
      ]
     },
     "metadata": {
      "needs_background": "light"
     },
     "output_type": "display_data"
    }
   ],
   "source": [
    "# Calculate AUC-ROC score\n",
    "gbdt_auc_roc = roc_auc_score(y_test, y_gbdt_proba)\n",
    "\n",
    "# Calculate ROC curve\n",
    "gbdt_fpr, gbdt_tpr, gbdt_thresholds = roc_curve(y_test, y_gbdt_proba)\n",
    "\n",
    "# Plot ROC curve\n",
    "plt.figure(figsize=(8, 6))\n",
    "plt.plot(gbdt_fpr, gbdt_tpr, color='blue', label=f'AUC = {gbdt_auc_roc:.2f}')\n",
    "plt.plot([0, 1], [0, 1], color='gray', linestyle='--')\n",
    "plt.xlabel('False Positive Rate')\n",
    "plt.ylabel('True Positive Rate')\n",
    "plt.title('Receiver Operating Characteristic (ROC) Curve')\n",
    "plt.legend(loc='lower right')\n",
    "plt.grid(True)\n",
    "plt.show()"
   ]
  },
  {
   "cell_type": "code",
   "execution_count": 53,
   "metadata": {},
   "outputs": [
    {
     "name": "stdout",
     "output_type": "stream",
     "text": [
      "Confusion Matrix for the model: \n"
     ]
    },
    {
     "data": {
      "text/html": [
       "<div>\n",
       "<style scoped>\n",
       "    .dataframe tbody tr th:only-of-type {\n",
       "        vertical-align: middle;\n",
       "    }\n",
       "\n",
       "    .dataframe tbody tr th {\n",
       "        vertical-align: top;\n",
       "    }\n",
       "\n",
       "    .dataframe thead th {\n",
       "        text-align: right;\n",
       "    }\n",
       "</style>\n",
       "<table border=\"1\" class=\"dataframe\">\n",
       "  <thead>\n",
       "    <tr style=\"text-align: right;\">\n",
       "      <th></th>\n",
       "      <th>Predicted: &lt;=50K</th>\n",
       "      <th>Predicted: &gt;50K</th>\n",
       "    </tr>\n",
       "  </thead>\n",
       "  <tbody>\n",
       "    <tr>\n",
       "      <th>Actual: &lt;=50K</th>\n",
       "      <td>1040</td>\n",
       "      <td>531</td>\n",
       "    </tr>\n",
       "    <tr>\n",
       "      <th>Actual: &gt;50K</th>\n",
       "      <td>598</td>\n",
       "      <td>4344</td>\n",
       "    </tr>\n",
       "  </tbody>\n",
       "</table>\n",
       "</div>"
      ],
      "text/plain": [
       "               Predicted: <=50K  Predicted: >50K\n",
       "Actual: <=50K              1040              531\n",
       "Actual: >50K                598             4344"
      ]
     },
     "execution_count": 53,
     "metadata": {},
     "output_type": "execute_result"
    }
   ],
   "source": [
    "# Create a confusion matrix\n",
    "gbdt_cm = confusion_matrix(y_test, y_gbdt_pred, labels=[True,False])\n",
    "\n",
    "# Create a Pandas DataFrame out of the confusion matrix for display\n",
    "print('Confusion Matrix for the model: ')\n",
    "pd.DataFrame(gbdt_cm, columns=['Predicted: <=50K', 'Predicted: >50K'], index = ['Actual: <=50K', 'Actual: >50K'])"
   ]
  },
  {
   "cell_type": "code",
   "execution_count": 54,
   "metadata": {},
   "outputs": [
    {
     "name": "stdout",
     "output_type": "stream",
     "text": [
      "Precision: 0.6349206349206349\n",
      "Recall: 0.6619987269255252\n"
     ]
    }
   ],
   "source": [
    "# Calculate precision\n",
    "gbdt_pre = precision_score(y_test, y_gbdt_pred)\n",
    "print(\"Precision:\", gbdt_pre)\n",
    "\n",
    "# Calculate recall\n",
    "gbdt_rec = recall_score(y_test, y_gbdt_pred)\n",
    "print(\"Recall:\", gbdt_rec)"
   ]
  },
  {
   "cell_type": "code",
   "execution_count": 55,
   "metadata": {
    "scrolled": true
   },
   "outputs": [
    {
     "data": {
      "image/png": "[encoded data removed]",
      "text/plain": [
       "<Figure size 432x288 with 1 Axes>"
      ]
     },
     "metadata": {
      "needs_background": "light"
     },
     "output_type": "display_data"
    },
    {
     "name": "stdout",
     "output_type": "stream",
     "text": [
      "AUC PR Score:  0.6880127130425759\n"
     ]
    }
   ],
   "source": [
    "gbdt_precurve, gbdt_recurve, gbdt_threshcurve = precision_recall_curve(y_test, y_gbdt_proba)\n",
    "\n",
    "fig = plt.figure()\n",
    "ax = fig.add_subplot(111)\n",
    "\n",
    "sns.lineplot(x=gbdt_recurve, y=gbdt_precurve, marker = 'o')\n",
    "\n",
    "plt.title(\"Precision-recall curve\")\n",
    "plt.xlabel(\"Recall\")\n",
    "plt.ylabel(\"Precision\")\n",
    "plt.show()\n",
    "\n",
    "gbdt_auc_pr = average_precision_score(y_test, y_gbdt_proba)\n",
    "print('AUC PR Score: ', gbdt_auc_pr)"
   ]
  },
  {
   "cell_type": "markdown",
   "metadata": {},
   "source": [
    "## 4. Random Forest"
   ]
  },
  {
   "cell_type": "code",
   "execution_count": 56,
   "metadata": {},
   "outputs": [],
   "source": [
    "from sklearn.ensemble import RandomForestClassifier"
   ]
  },
  {
   "cell_type": "markdown",
   "metadata": {},
   "source": [
    "### A. Creating and Fitting the Model"
   ]
  },
  {
   "cell_type": "code",
   "execution_count": 57,
   "metadata": {
    "scrolled": true
   },
   "outputs": [
    {
     "data": {
      "text/plain": [
       "RandomForestClassifier()"
      ]
     },
     "execution_count": 57,
     "metadata": {},
     "output_type": "execute_result"
    }
   ],
   "source": [
    "# Create the model \n",
    "rf_classifier = RandomForestClassifier()\n",
    "rf_classifier.fit(X_resampled, y_resampled)"
   ]
  },
  {
   "cell_type": "code",
   "execution_count": 58,
   "metadata": {
    "scrolled": true
   },
   "outputs": [
    {
     "name": "stdout",
     "output_type": "stream",
     "text": [
      "Running Grid search...\n",
      "Done\n",
      "Best Parameters: {'max_depth': 15, 'n_estimators': 100}\n",
      "Best Score: 0.8686956917956964\n"
     ]
    }
   ],
   "source": [
    "# Define hyperparameters and their possible values\n",
    "rf_param_grid = {\n",
    "    'max_depth' : [15, 30, 35],  # Max Depth\n",
    "    'n_estimators' : [50, 100]  # N_estimators\n",
    "}\n",
    "\n",
    "print(\"Running Grid search...\")\n",
    "\n",
    "# Create a GridSearchCV object\n",
    "rf_grid = GridSearchCV(rf_classifier, rf_param_grid, cv=5, scoring='accuracy')\n",
    "\n",
    "# Perform the grid search on the training data\n",
    "rf_grid_search = rf_grid.fit(X_resampled, y_resampled)\n",
    "\n",
    "print(\"Done\")\n",
    "\n",
    "# Print the best parameters and corresponding score\n",
    "print(\"Best Parameters:\", rf_grid_search.best_params_)\n",
    "print(\"Best Score:\", rf_grid_search.best_score_)"
   ]
  },
  {
   "cell_type": "code",
   "execution_count": 59,
   "metadata": {},
   "outputs": [],
   "source": [
    "# Saving the best params values\n",
    "rf_max_depth = rf_grid_search.best_params_['max_depth']\n",
    "rf_n_estimators = gbdt_grid_search.best_params_['n_estimators']"
   ]
  },
  {
   "cell_type": "code",
   "execution_count": 60,
   "metadata": {},
   "outputs": [
    {
     "data": {
      "text/plain": [
       "RandomForestClassifier(max_depth=15, n_estimators=50)"
      ]
     },
     "execution_count": 60,
     "metadata": {},
     "output_type": "execute_result"
    }
   ],
   "source": [
    "# Fitting a model with the best params values\n",
    "rf_model = RandomForestClassifier(max_depth=rf_max_depth, n_estimators=rf_n_estimators)\n",
    "rf_model.fit(X_resampled, y_resampled)"
   ]
  },
  {
   "cell_type": "code",
   "execution_count": 61,
   "metadata": {},
   "outputs": [],
   "source": [
    "# Make predictions on the test data\n",
    "y_rf_pred = rf_model.predict(X_test)\n",
    "y_rf_proba = rf_model.predict_proba(X_test)[:, 1]"
   ]
  },
  {
   "cell_type": "markdown",
   "metadata": {},
   "source": [
    "### B. Evaluation"
   ]
  },
  {
   "cell_type": "code",
   "execution_count": 62,
   "metadata": {},
   "outputs": [
    {
     "data": {
      "image/png": "[encoded data removed]",
      "text/plain": [
       "<Figure size 576x432 with 1 Axes>"
      ]
     },
     "metadata": {
      "needs_background": "light"
     },
     "output_type": "display_data"
    }
   ],
   "source": [
    "# Calculate AUC-ROC score\n",
    "rf_auc_roc = roc_auc_score(y_test, y_rf_proba)\n",
    "\n",
    "# Calculate ROC curve\n",
    "rf_fpr, rf_tpr, rf_thresholds = roc_curve(y_test, y_rf_proba)\n",
    "\n",
    "# Plot ROC curve\n",
    "plt.figure(figsize=(8, 6))\n",
    "plt.plot(rf_fpr, rf_tpr, color='blue', label=f'AUC = {rf_auc_roc:.2f}')\n",
    "plt.plot([0, 1], [0, 1], color='gray', linestyle='--')\n",
    "plt.xlabel('False Positive Rate')\n",
    "plt.ylabel('True Positive Rate')\n",
    "plt.title('Receiver Operating Characteristic (ROC) Curve')\n",
    "plt.legend(loc='lower right')\n",
    "plt.grid(True)\n",
    "plt.show()"
   ]
  },
  {
   "cell_type": "code",
   "execution_count": 63,
   "metadata": {},
   "outputs": [
    {
     "name": "stdout",
     "output_type": "stream",
     "text": [
      "Confusion Matrix for the model: \n"
     ]
    },
    {
     "data": {
      "text/html": [
       "<div>\n",
       "<style scoped>\n",
       "    .dataframe tbody tr th:only-of-type {\n",
       "        vertical-align: middle;\n",
       "    }\n",
       "\n",
       "    .dataframe tbody tr th {\n",
       "        vertical-align: top;\n",
       "    }\n",
       "\n",
       "    .dataframe thead th {\n",
       "        text-align: right;\n",
       "    }\n",
       "</style>\n",
       "<table border=\"1\" class=\"dataframe\">\n",
       "  <thead>\n",
       "    <tr style=\"text-align: right;\">\n",
       "      <th></th>\n",
       "      <th>Predicted: &lt;=50K</th>\n",
       "      <th>Predicted: &gt;50K</th>\n",
       "    </tr>\n",
       "  </thead>\n",
       "  <tbody>\n",
       "    <tr>\n",
       "      <th>Actual: &lt;=50K</th>\n",
       "      <td>1035</td>\n",
       "      <td>536</td>\n",
       "    </tr>\n",
       "    <tr>\n",
       "      <th>Actual: &gt;50K</th>\n",
       "      <td>600</td>\n",
       "      <td>4342</td>\n",
       "    </tr>\n",
       "  </tbody>\n",
       "</table>\n",
       "</div>"
      ],
      "text/plain": [
       "               Predicted: <=50K  Predicted: >50K\n",
       "Actual: <=50K              1035              536\n",
       "Actual: >50K                600             4342"
      ]
     },
     "execution_count": 63,
     "metadata": {},
     "output_type": "execute_result"
    }
   ],
   "source": [
    "# Create a confusion matrix\n",
    "rf_cm = confusion_matrix(y_test, y_rf_pred, labels=[True,False])\n",
    "\n",
    "# Create a Pandas DataFrame out of the confusion matrix for display\n",
    "print('Confusion Matrix for the model: ')\n",
    "pd.DataFrame(rf_cm, columns=['Predicted: <=50K', 'Predicted: >50K'], index = ['Actual: <=50K', 'Actual: >50K'])"
   ]
  },
  {
   "cell_type": "code",
   "execution_count": 64,
   "metadata": {},
   "outputs": [
    {
     "name": "stdout",
     "output_type": "stream",
     "text": [
      "Precision: 0.6330275229357798\n",
      "Recall: 0.6588160407383832\n"
     ]
    }
   ],
   "source": [
    "# Calculate precision\n",
    "rf_pre = precision_score(y_test, y_rf_pred)\n",
    "print(\"Precision:\", rf_pre)\n",
    "\n",
    "# Calculate recall\n",
    "rf_rec = recall_score(y_test, y_rf_pred)\n",
    "print(\"Recall:\", rf_rec)"
   ]
  },
  {
   "cell_type": "code",
   "execution_count": 65,
   "metadata": {
    "scrolled": false
   },
   "outputs": [
    {
     "data": {
      "image/png": "[encoded data removed]",
      "text/plain": [
       "<Figure size 432x288 with 1 Axes>"
      ]
     },
     "metadata": {
      "needs_background": "light"
     },
     "output_type": "display_data"
    },
    {
     "name": "stdout",
     "output_type": "stream",
     "text": [
      "AUC PR Score:  0.6814954866614494\n"
     ]
    }
   ],
   "source": [
    "rf_precurve, rf_recurve, rf_threshcurve = precision_recall_curve(y_test, y_rf_proba)\n",
    "\n",
    "fig = plt.figure()\n",
    "ax = fig.add_subplot(111)\n",
    "\n",
    "sns.lineplot(x=rf_recurve, y=rf_precurve, marker = 'o')\n",
    "\n",
    "plt.title(\"Precision-recall curve\")\n",
    "plt.xlabel(\"Recall\")\n",
    "plt.ylabel(\"Precision\")\n",
    "plt.show()\n",
    "\n",
    "rf_auc_pr = average_precision_score(y_test, y_rf_proba)\n",
    "print('AUC PR Score: ', rf_auc_pr)"
   ]
  },
  {
   "cell_type": "markdown",
   "metadata": {},
   "source": [
    " "
   ]
  },
  {
   "cell_type": "markdown",
   "metadata": {},
   "source": [
    " "
   ]
  },
  {
   "cell_type": "markdown",
   "metadata": {},
   "source": [
    " "
   ]
  },
  {
   "cell_type": "markdown",
   "metadata": {},
   "source": [
    "## MODEL SELECTION"
   ]
  },
  {
   "cell_type": "markdown",
   "metadata": {},
   "source": [
    "In this section, I will visualize the scores for precision-recall, AUC PR, and AUC ROC for all my models and make my analysis on each."
   ]
  },
  {
   "cell_type": "markdown",
   "metadata": {},
   "source": [
    "### A. Precision-Recall"
   ]
  },
  {
   "cell_type": "code",
   "execution_count": 66,
   "metadata": {
    "scrolled": false
   },
   "outputs": [
    {
     "data": {
      "image/png": "[encoded data removed]",
      "text/plain": [
       "<Figure size 432x288 with 1 Axes>"
      ]
     },
     "metadata": {
      "needs_background": "light"
     },
     "output_type": "display_data"
    }
   ],
   "source": [
    "# Visualizing model performance based on PRECISION and RECALL SCORES\n",
    "\n",
    "pre_results = [lr_pre, dt_pre, gbdt_pre, rf_pre]\n",
    "rec_results = [lr_rec, dt_rec, gbdt_rec, rf_rec]\n",
    "labels = ['LR', 'DT', 'GBDT', 'RF']\n",
    "\n",
    "rg= np.arange(4)\n",
    "width = 0.35\n",
    "plt.bar(rg, pre_results, width, label=\"Precision Score\")\n",
    "plt.bar(rg+width, rec_results, width, label=\"Recall Score\")\n",
    "plt.xticks(rg + width/2, labels)\n",
    "plt.xlabel(\"Models\")\n",
    "plt.ylabel(\"Precision/Recall\")\n",
    "plt.ylim([0,1])\n",
    "\n",
    "plt.title('Model Performance based on Precision-Recall')\n",
    "plt.legend(loc='upper left', ncol=2)\n",
    "\n",
    "# Annotate bar values on top\n",
    "for i, value in enumerate(pre_results):\n",
    "    plt.text(i, value + 0.02, f'{value:.2f}', ha='center', va='bottom')\n",
    "for i, value in enumerate(rec_results):\n",
    "    plt.text(i + width, value + 0.02, f'{value:.2f}', ha='center', va='bottom')\n",
    "\n",
    "plt.show()"
   ]
  },
  {
   "cell_type": "markdown",
   "metadata": {},
   "source": [
    "### Analysis\n",
    "Precision and recall are two metrics that is often described as a trade-off, simply because they are fundamentally at odds with each other; one cannot truly have a high precision without having a low recall and vice versa.\n",
    "\n",
    "My goal was to get this trade-off between precision and recall to reach a balanced compromise, since, as I have already explained previously, I am not creating this model for a specific use-case and can see good implications for using both precision and recall.\n",
    "\n",
    "Judging from the plot I've visualized above, my Logistic Regression completely failed to produce both precision and recall. This makes sense, as I mostly treated my LR model as a baseline and did not set any regularization hyperparameters for it. The Decision Tree, GBDT, and Random Forest models were a significant improvement from the LR model with an approximate value of 0.6-0.7 for both precision and recall for each model. This is a good value for both metrics to have, especially since I am prioritizing a balanced trade-off.\n",
    "\n",
    "Overall, based on Precision-Recall alone, it looks like GBDT and RF are clear winners! "
   ]
  },
  {
   "cell_type": "markdown",
   "metadata": {},
   "source": [
    "### B. AUC Precision-Recall"
   ]
  },
  {
   "cell_type": "code",
   "execution_count": 67,
   "metadata": {
    "scrolled": false
   },
   "outputs": [
    {
     "data": {
      "image/png": "[encoded data removed]",
      "text/plain": [
       "<Figure size 432x288 with 1 Axes>"
      ]
     },
     "metadata": {
      "needs_background": "light"
     },
     "output_type": "display_data"
    }
   ],
   "source": [
    "# Visualizing model performance based on AUC PR\n",
    "\n",
    "auc_pr_results = [lr_auc_pr, dt_auc_pr, gbdt_auc_pr, rf_auc_pr]\n",
    "labels = ['LR', 'DT', 'GBDT', 'RF']\n",
    "\n",
    "rg= np.arange(4)\n",
    "width = 0.5\n",
    "plt.bar(rg, auc_pr_results, width)\n",
    "plt.xticks(rg, labels)\n",
    "plt.xlabel(\"Models\")\n",
    "plt.ylabel(\"AUC PR\")\n",
    "plt.ylim([0,1])\n",
    "\n",
    "plt.title('Model Performance based on AUC PR')\n",
    "\n",
    "# Annotate bar values on top\n",
    "for i, value in enumerate(auc_pr_results):\n",
    "    plt.text(i, value + 0.02, f'{value:.2f}', ha='center', va='bottom')\n",
    "\n",
    "plt.show()"
   ]
  },
  {
   "cell_type": "markdown",
   "metadata": {},
   "source": [
    "### Analysis\n",
    "AUC-PR (Area Under the Precision-Recall Curve) is a metric that is fundamentally similar to Precision-Recall but has slight differences in that it is able to give a more comprehensive view of precision and recall by measuring the overall performance of a model across different threshold settings. It plots precision against recall for various threshold values and calculates the area under this curve. A higher AUC-PR indicates that the model maintains high precision and recall across different levels of classification threshold.\n",
    "\n",
    "From the plot that I've visualized above, it seems that GBDT has the highest AUC-PR score of 0.69, beating RF by 0.01. Whereas from the previous plot of Precision-Recall, GBDT and RF both had the same scores for precision and recall, we can see from this plot that GBDT had a higher AUC-PR, indicating that the GBDT model achieved a better trade-off between precision and recall overall."
   ]
  },
  {
   "cell_type": "markdown",
   "metadata": {},
   "source": [
    "### C. AUC ROC"
   ]
  },
  {
   "cell_type": "code",
   "execution_count": 69,
   "metadata": {
    "scrolled": false
   },
   "outputs": [
    {
     "data": {
      "image/png": "[encoded data removed]",
      "text/plain": [
       "<Figure size 432x288 with 1 Axes>"
      ]
     },
     "metadata": {
      "needs_background": "light"
     },
     "output_type": "display_data"
    }
   ],
   "source": [
    "# Visualizing model performance based on AUC ROC\n",
    "\n",
    "auc_roc_results = [lr_auc_roc, dt_auc_roc, gbdt_auc_roc, rf_auc_roc]\n",
    "labels = ['LR', 'DT', 'GBDT', 'RF']\n",
    "\n",
    "rg= np.arange(4)\n",
    "width = 0.5\n",
    "plt.bar(rg, auc_roc_results, width)\n",
    "plt.xticks(rg, labels)\n",
    "plt.xlabel(\"Models\")\n",
    "plt.ylabel(\"AUC PR\")\n",
    "plt.ylim([0,1])\n",
    "\n",
    "plt.title('Model Performance based on AUC ROC')\n",
    "\n",
    "# Annotate bar values on top\n",
    "for i, value in enumerate(auc_roc_results):\n",
    "    plt.text(i, value + 0.02, f'{value:.2f}', ha='center', va='bottom')\n",
    "    \n",
    "plt.show()"
   ]
  },
  {
   "cell_type": "markdown",
   "metadata": {},
   "source": [
    "### Analysis\n",
    "AUC-ROC (Area Under the Receiver Operating Characteristic Curve) is the last metric I decided to use and is different from both precision-recall and AUC PR. The ROC curve plots the true positive rate (recall) against the false positive rate as the classification threshold varies.\n",
    "AUC-ROC is the area under this ROC curve, which measures the model's ability to distinguish between the positive and negative classes. AUC-ROC is less lenient towards class imbalances.\n",
    "\n",
    "From the plot I've visualized above, we again see that GBDT and RF produce the highest scores for AUC-ROC. This means GBDT and RF were the two models that were best able to discriminate between the negative and positive classes in this dataset with regards to income."
   ]
  }
 ],
 "metadata": {
  "kernelspec": {
   "display_name": "Python 3",
   "language": "python",
   "name": "python3"
  },
  "toc": {
   "base_numbering": 1,
   "nav_menu": {},
   "number_sections": false,
   "sideBar": true,
   "skip_h1_title": false,
   "title_cell": "Table of Contents",
   "title_sidebar": "Contents",
   "toc_cell": false,
   "toc_position": {},
   "toc_section_display": true,
   "toc_window_display": false
  },
  "varInspector": {
   "cols": {
    "lenName": 16,
    "lenType": 16,
    "lenVar": 40
   },
   "kernels_config": {
    "python": {
     "delete_cmd_postfix": "",
     "delete_cmd_prefix": "del ",
     "library": "var_list.py",
     "varRefreshCmd": "print(var_dic_list())"
    },
    "r": {
     "delete_cmd_postfix": ") ",
     "delete_cmd_prefix": "rm(",
     "library": "var_list.r",
     "varRefreshCmd": "cat(var_dic_list()) "
    }
   },
   "types_to_exclude": [
    "module",
    "function",
    "builtin_function_or_method",
    "instance",
    "_Feature"
   ],
   "window_display": false
  }
 },
 "nbformat": 4,
 "nbformat_minor": 2
}
